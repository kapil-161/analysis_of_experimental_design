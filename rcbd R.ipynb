{
 "cells": [
  {
   "cell_type": "code",
   "execution_count": 3,
   "metadata": {
    "ExecuteTime": {
     "end_time": "2021-06-07T11:12:46.819992Z",
     "start_time": "2021-06-07T11:12:46.752Z"
    },
    "slideshow": {
     "slide_type": "slide"
    }
   },
   "outputs": [],
   "source": [
    "require(readr)\n",
    "require(agricolae)\n",
    "require(ggplot2)\n",
    "require(gvlma)\n",
    "\n"
   ]
  },
  {
   "cell_type": "code",
   "execution_count": 4,
   "metadata": {
    "ExecuteTime": {
     "end_time": "2021-06-07T11:12:49.048189Z",
     "start_time": "2021-06-07T11:12:48.906Z"
    },
    "slideshow": {
     "slide_type": "slide"
    }
   },
   "outputs": [
    {
     "name": "stderr",
     "output_type": "stream",
     "text": [
      "\n",
      "\u001b[36m--\u001b[39m \u001b[1m\u001b[1mColumn specification\u001b[1m\u001b[22m \u001b[36m--------------------------------------------------------\u001b[39m\n",
      "cols(\n",
      "  treatment = col_double(),\n",
      "  rep = col_double(),\n",
      "  gy = col_double()\n",
      ")\n",
      "\n"
     ]
    },
    {
     "data": {
      "text/html": [
       "<table class=\"dataframe\">\n",
       "<caption>A spec_tbl_df: 24 × 3</caption>\n",
       "<thead>\n",
       "\t<tr><th scope=col>treatment</th><th scope=col>rep</th><th scope=col>gy</th></tr>\n",
       "\t<tr><th scope=col>&lt;dbl&gt;</th><th scope=col>&lt;dbl&gt;</th><th scope=col>&lt;dbl&gt;</th></tr>\n",
       "</thead>\n",
       "<tbody>\n",
       "\t<tr><td>1</td><td>1</td><td>5113</td></tr>\n",
       "\t<tr><td>1</td><td>2</td><td>5398</td></tr>\n",
       "\t<tr><td>1</td><td>3</td><td>5307</td></tr>\n",
       "\t<tr><td>1</td><td>4</td><td>4678</td></tr>\n",
       "\t<tr><td>2</td><td>1</td><td>5346</td></tr>\n",
       "\t<tr><td>2</td><td>2</td><td>5952</td></tr>\n",
       "\t<tr><td>2</td><td>3</td><td>4719</td></tr>\n",
       "\t<tr><td>2</td><td>4</td><td>4264</td></tr>\n",
       "\t<tr><td>3</td><td>1</td><td>5272</td></tr>\n",
       "\t<tr><td>3</td><td>2</td><td>5713</td></tr>\n",
       "\t<tr><td>3</td><td>3</td><td>5483</td></tr>\n",
       "\t<tr><td>3</td><td>4</td><td>4749</td></tr>\n",
       "\t<tr><td>4</td><td>1</td><td>5164</td></tr>\n",
       "\t<tr><td>4</td><td>2</td><td>4831</td></tr>\n",
       "\t<tr><td>4</td><td>3</td><td>4986</td></tr>\n",
       "\t<tr><td>4</td><td>4</td><td>4410</td></tr>\n",
       "\t<tr><td>5</td><td>1</td><td>4804</td></tr>\n",
       "\t<tr><td>5</td><td>2</td><td>4848</td></tr>\n",
       "\t<tr><td>5</td><td>3</td><td>4432</td></tr>\n",
       "\t<tr><td>5</td><td>4</td><td>4748</td></tr>\n",
       "\t<tr><td>6</td><td>1</td><td>5254</td></tr>\n",
       "\t<tr><td>6</td><td>2</td><td>4542</td></tr>\n",
       "\t<tr><td>6</td><td>3</td><td>4919</td></tr>\n",
       "\t<tr><td>6</td><td>4</td><td>4098</td></tr>\n",
       "</tbody>\n",
       "</table>\n"
      ],
      "text/latex": [
       "A spec\\_tbl\\_df: 24 × 3\n",
       "\\begin{tabular}{lll}\n",
       " treatment & rep & gy\\\\\n",
       " <dbl> & <dbl> & <dbl>\\\\\n",
       "\\hline\n",
       "\t 1 & 1 & 5113\\\\\n",
       "\t 1 & 2 & 5398\\\\\n",
       "\t 1 & 3 & 5307\\\\\n",
       "\t 1 & 4 & 4678\\\\\n",
       "\t 2 & 1 & 5346\\\\\n",
       "\t 2 & 2 & 5952\\\\\n",
       "\t 2 & 3 & 4719\\\\\n",
       "\t 2 & 4 & 4264\\\\\n",
       "\t 3 & 1 & 5272\\\\\n",
       "\t 3 & 2 & 5713\\\\\n",
       "\t 3 & 3 & 5483\\\\\n",
       "\t 3 & 4 & 4749\\\\\n",
       "\t 4 & 1 & 5164\\\\\n",
       "\t 4 & 2 & 4831\\\\\n",
       "\t 4 & 3 & 4986\\\\\n",
       "\t 4 & 4 & 4410\\\\\n",
       "\t 5 & 1 & 4804\\\\\n",
       "\t 5 & 2 & 4848\\\\\n",
       "\t 5 & 3 & 4432\\\\\n",
       "\t 5 & 4 & 4748\\\\\n",
       "\t 6 & 1 & 5254\\\\\n",
       "\t 6 & 2 & 4542\\\\\n",
       "\t 6 & 3 & 4919\\\\\n",
       "\t 6 & 4 & 4098\\\\\n",
       "\\end{tabular}\n"
      ],
      "text/markdown": [
       "\n",
       "A spec_tbl_df: 24 × 3\n",
       "\n",
       "| treatment &lt;dbl&gt; | rep &lt;dbl&gt; | gy &lt;dbl&gt; |\n",
       "|---|---|---|\n",
       "| 1 | 1 | 5113 |\n",
       "| 1 | 2 | 5398 |\n",
       "| 1 | 3 | 5307 |\n",
       "| 1 | 4 | 4678 |\n",
       "| 2 | 1 | 5346 |\n",
       "| 2 | 2 | 5952 |\n",
       "| 2 | 3 | 4719 |\n",
       "| 2 | 4 | 4264 |\n",
       "| 3 | 1 | 5272 |\n",
       "| 3 | 2 | 5713 |\n",
       "| 3 | 3 | 5483 |\n",
       "| 3 | 4 | 4749 |\n",
       "| 4 | 1 | 5164 |\n",
       "| 4 | 2 | 4831 |\n",
       "| 4 | 3 | 4986 |\n",
       "| 4 | 4 | 4410 |\n",
       "| 5 | 1 | 4804 |\n",
       "| 5 | 2 | 4848 |\n",
       "| 5 | 3 | 4432 |\n",
       "| 5 | 4 | 4748 |\n",
       "| 6 | 1 | 5254 |\n",
       "| 6 | 2 | 4542 |\n",
       "| 6 | 3 | 4919 |\n",
       "| 6 | 4 | 4098 |\n",
       "\n"
      ],
      "text/plain": [
       "   treatment rep gy  \n",
       "1  1         1   5113\n",
       "2  1         2   5398\n",
       "3  1         3   5307\n",
       "4  1         4   4678\n",
       "5  2         1   5346\n",
       "6  2         2   5952\n",
       "7  2         3   4719\n",
       "8  2         4   4264\n",
       "9  3         1   5272\n",
       "10 3         2   5713\n",
       "11 3         3   5483\n",
       "12 3         4   4749\n",
       "13 4         1   5164\n",
       "14 4         2   4831\n",
       "15 4         3   4986\n",
       "16 4         4   4410\n",
       "17 5         1   4804\n",
       "18 5         2   4848\n",
       "19 5         3   4432\n",
       "20 5         4   4748\n",
       "21 6         1   5254\n",
       "22 6         2   4542\n",
       "23 6         3   4919\n",
       "24 6         4   4098"
      ]
     },
     "metadata": {},
     "output_type": "display_data"
    }
   ],
   "source": [
    "library(readr)\n",
    "kapil = read_csv('rcbd1.csv')\n",
    "kapil\n"
   ]
  },
  {
   "cell_type": "code",
   "execution_count": 5,
   "metadata": {
    "ExecuteTime": {
     "end_time": "2021-06-07T11:13:13.900088Z",
     "start_time": "2021-06-07T11:13:13.825Z"
    },
    "slideshow": {
     "slide_type": "slide"
    }
   },
   "outputs": [
    {
     "data": {
      "text/plain": [
       " treatment rep         gy      \n",
       " 1:4       1:6   Min.   :4098  \n",
       " 2:4       2:6   1st Qu.:4709  \n",
       " 3:4       3:6   Median :4884  \n",
       " 4:4       4:6   Mean   :4960  \n",
       " 5:4             3rd Qu.:5281  \n",
       " 6:4             Max.   :5952  "
      ]
     },
     "metadata": {},
     "output_type": "display_data"
    }
   ],
   "source": [
    "attach(kapil)\n",
    "kapil$treatment=as.factor(kapil$treatment)\n",
    "kapil$rep=as.factor(kapil$rep)\n",
    "summary(kapil)"
   ]
  },
  {
   "cell_type": "code",
   "execution_count": 6,
   "metadata": {
    "ExecuteTime": {
     "end_time": "2021-06-07T11:13:36.157634Z",
     "start_time": "2021-06-07T11:13:36.079Z"
    },
    "slideshow": {
     "slide_type": "skip"
    }
   },
   "outputs": [
    {
     "name": "stderr",
     "output_type": "stream",
     "text": [
      "Loading required package: repr\n",
      "Warning message:\n",
      "\"package 'repr' was built under R version 3.6.3\""
     ]
    }
   ],
   "source": [
    "require(repr)\n",
    "options(repr.plot.width=4, repr.plot.height=4)"
   ]
  },
  {
   "cell_type": "code",
   "execution_count": 7,
   "metadata": {
    "ExecuteTime": {
     "end_time": "2021-06-07T11:13:44.315990Z",
     "start_time": "2021-06-07T11:13:44.190Z"
    },
    "slideshow": {
     "slide_type": "slide"
    }
   },
   "outputs": [
    {
     "data": {
      "image/png": "[encoded data removed]",
      "text/plain": [
       "plot without title"
      ]
     },
     "metadata": {},
     "output_type": "display_data"
    }
   ],
   "source": [
    "barplot(gy ~ rep+treatment, data = kapil)"
   ]
  },
  {
   "cell_type": "code",
   "execution_count": 8,
   "metadata": {
    "ExecuteTime": {
     "end_time": "2021-06-07T11:14:18.560184Z",
     "start_time": "2021-06-07T11:14:18.376Z"
    },
    "slideshow": {
     "slide_type": "slide"
    }
   },
   "outputs": [
    {
     "data": {
      "image/png": "[encoded data removed]",
      "text/plain": [
       "plot without title"
      ]
     },
     "metadata": {},
     "output_type": "display_data"
    }
   ],
   "source": [
    "boxplot(gy,col = 'maroon')"
   ]
  },
  {
   "cell_type": "code",
   "execution_count": 9,
   "metadata": {
    "ExecuteTime": {
     "end_time": "2021-06-07T11:14:39.818387Z",
     "start_time": "2021-06-07T11:14:39.691Z"
    },
    "slideshow": {
     "slide_type": "slide"
    }
   },
   "outputs": [
    {
     "data": {
      "image/png": "[encoded data removed]",
      "text/plain": [
       "Plot with title \"Histogram of gy\""
      ]
     },
     "metadata": {},
     "output_type": "display_data"
    }
   ],
   "source": [
    "hist(gy,col=\"red\")"
   ]
  },
  {
   "cell_type": "code",
   "execution_count": 10,
   "metadata": {
    "ExecuteTime": {
     "end_time": "2021-06-07T11:14:47.112151Z",
     "start_time": "2021-06-07T11:14:46.996Z"
    },
    "slideshow": {
     "slide_type": "slide"
    }
   },
   "outputs": [
    {
     "data": {
      "image/png": "[encoded data removed]",
      "text/plain": [
       "Plot with title \"Histogram of gy\""
      ]
     },
     "metadata": {},
     "output_type": "display_data"
    }
   ],
   "source": [
    "hist(gy,probability = 'T', main=\"Histogram of gy\",xlab=\" \",col = 'blue')\n",
    "lines(density(gy),col='yellow') "
   ]
  },
  {
   "cell_type": "code",
   "execution_count": 11,
   "metadata": {
    "ExecuteTime": {
     "end_time": "2021-06-07T11:14:54.618046Z",
     "start_time": "2021-06-07T11:14:54.523Z"
    },
    "slideshow": {
     "slide_type": "slide"
    }
   },
   "outputs": [
    {
     "data": {
      "image/png": "[encoded data removed]",
      "text/plain": [
       "plot without title"
      ]
     },
     "metadata": {},
     "output_type": "display_data"
    }
   ],
   "source": [
    "plot(gy,col=\"red\")"
   ]
  },
  {
   "cell_type": "code",
   "execution_count": 12,
   "metadata": {
    "ExecuteTime": {
     "end_time": "2021-06-07T11:15:32.977197Z",
     "start_time": "2021-06-07T11:15:32.887Z"
    },
    "slideshow": {
     "slide_type": "slide"
    }
   },
   "outputs": [
    {
     "data": {
      "text/plain": [
       "\n",
       "Call:\n",
       "lm(formula = gy ~ rep + treatment, data = kapil)\n",
       "\n",
       "Coefficients:\n",
       "(Intercept)         rep2         rep3         rep4   treatment2   treatment3  \n",
       "    5323.25        55.17      -184.50      -667.67       -53.75       180.25  \n",
       " treatment4   treatment5   treatment6  \n",
       "    -276.25      -416.00      -420.75  \n",
       "\n",
       "\n",
       "ASSESSMENT OF THE LINEAR MODEL ASSUMPTIONS\n",
       "USING THE GLOBAL TEST ON 4 DEGREES-OF-FREEDOM:\n",
       "Level of Significance =  0.05 \n",
       "\n",
       "Call:\n",
       " gvlma(x = fit) \n",
       "\n",
       "                     Value p-value                Decision\n",
       "Global Stat        3.05727  0.5483 Assumptions acceptable.\n",
       "Skewness           0.97520  0.3234 Assumptions acceptable.\n",
       "Kurtosis           0.04293  0.8359 Assumptions acceptable.\n",
       "Link Function      1.91477  0.1664 Assumptions acceptable.\n",
       "Heteroscedasticity 0.12437  0.7243 Assumptions acceptable."
      ]
     },
     "metadata": {},
     "output_type": "display_data"
    }
   ],
   "source": [
    "require(gvlma)\n",
    "fit=lm(gy~rep+treatment, data = kapil)\n",
    "gvmodelFit=gvlma(fit)\n",
    "gvmodelFit"
   ]
  },
  {
   "cell_type": "code",
   "execution_count": 13,
   "metadata": {
    "ExecuteTime": {
     "end_time": "2021-06-07T11:15:46.046081Z",
     "start_time": "2021-06-07T11:15:45.982Z"
    },
    "slideshow": {
     "slide_type": "slide"
    }
   },
   "outputs": [
    {
     "data": {
      "text/plain": [
       "            Df  Sum Sq Mean Sq F value  Pr(>F)   \n",
       "rep          3 1944361  648120   5.862 0.00742 **\n",
       "treatment    5 1198331  239666   2.168 0.11281   \n",
       "Residuals   15 1658376  110558                   \n",
       "---\n",
       "Signif. codes:  0 '***' 0.001 '**' 0.01 '*' 0.05 '.' 0.1 ' ' 1"
      ]
     },
     "metadata": {},
     "output_type": "display_data"
    }
   ],
   "source": [
    "summary.aov(gvmodelFit)"
   ]
  },
  {
   "cell_type": "code",
   "execution_count": 14,
   "metadata": {
    "ExecuteTime": {
     "end_time": "2021-06-07T11:16:01.556157Z",
     "start_time": "2021-06-07T11:16:01.433Z"
    },
    "slideshow": {
     "slide_type": "slide"
    }
   },
   "outputs": [
    {
     "data": {
      "text/plain": [
       "            Df  Sum Sq Mean Sq F value  Pr(>F)   \n",
       "rep          3 1944361  648120   5.862 0.00742 **\n",
       "treatment    5 1198331  239666   2.168 0.11281   \n",
       "Residuals   15 1658376  110558                   \n",
       "---\n",
       "Signif. codes:  0 '***' 0.001 '**' 0.01 '*' 0.05 '.' 0.1 ' ' 1"
      ]
     },
     "metadata": {},
     "output_type": "display_data"
    },
    {
     "data": {
      "text/plain": [
       "\n",
       "Call:\n",
       "lm(formula = gy ~ rep + treatment, data = kapil)\n",
       "\n",
       "Residuals:\n",
       "   Min     1Q Median     3Q    Max \n",
       "-415.7 -215.6   21.0  156.8  627.3 \n",
       "\n",
       "Coefficients:\n",
       "            Estimate Std. Error t value Pr(>|t|)    \n",
       "(Intercept)  5323.25     203.62  26.144 6.31e-14 ***\n",
       "rep2           55.17     191.97   0.287  0.77776    \n",
       "rep3         -184.50     191.97  -0.961  0.35175    \n",
       "rep4         -667.67     191.97  -3.478  0.00337 ** \n",
       "treatment2    -53.75     235.12  -0.229  0.82226    \n",
       "treatment3    180.25     235.12   0.767  0.45519    \n",
       "treatment4   -276.25     235.12  -1.175  0.25833    \n",
       "treatment5   -416.00     235.12  -1.769  0.09716 .  \n",
       "treatment6   -420.75     235.12  -1.790  0.09373 .  \n",
       "---\n",
       "Signif. codes:  0 '***' 0.001 '**' 0.01 '*' 0.05 '.' 0.1 ' ' 1\n",
       "\n",
       "Residual standard error: 332.5 on 15 degrees of freedom\n",
       "Multiple R-squared:  0.6546,\tAdjusted R-squared:  0.4704 \n",
       "F-statistic: 3.553 on 8 and 15 DF,  p-value: 0.01651\n"
      ]
     },
     "metadata": {},
     "output_type": "display_data"
    }
   ],
   "source": [
    "require(agricolae)\n",
    "bishal=lm(gy~rep+treatment, data = kapil)\n",
    "summary.aov(bishal)\n",
    "summary (bishal)\n"
   ]
  },
  {
   "cell_type": "code",
   "execution_count": 15,
   "metadata": {
    "ExecuteTime": {
     "end_time": "2021-06-07T11:17:32.654304Z",
     "start_time": "2021-06-07T11:17:32.523Z"
    },
    "slideshow": {
     "slide_type": "slide"
    }
   },
   "outputs": [
    {
     "name": "stdout",
     "output_type": "stream",
     "text": [
      "\n",
      "Study: fit ~ \"treatment\"\n",
      "\n",
      "Duncan's new multiple range test\n",
      "for gy \n",
      "\n",
      "Mean Square Error:  110558.4 \n",
      "\n",
      "treatment,  means\n",
      "\n",
      "       gy      std r  Min  Max\n",
      "1 5124.00 320.2093 4 4678 5398\n",
      "2 5070.25 736.4185 4 4264 5952\n",
      "3 5304.25 411.6515 4 4749 5713\n",
      "4 4847.75 321.9900 4 4410 5164\n",
      "5 4708.00 188.4958 4 4432 4848\n",
      "6 4703.25 497.3941 4 4098 5254\n",
      "\n",
      "Alpha: 0.05 ; DF Error: 15 \n",
      "\n",
      "Critical Range\n",
      "       2        3        4        5        6 \n",
      "501.1364 525.3262 540.3590 550.6001 557.9444 \n",
      "\n",
      "Means with the same letter are not significantly different.\n",
      "\n",
      "       gy groups\n",
      "3 5304.25      a\n",
      "1 5124.00     ab\n",
      "2 5070.25     ab\n",
      "4 4847.75     ab\n",
      "5 4708.00      b\n",
      "6 4703.25      b\n"
     ]
    }
   ],
   "source": [
    "dmout = with(kapil,duncan.test(fit,\"treatment\", alpha = 0.05,console =TRUE))"
   ]
  },
  {
   "cell_type": "code",
   "execution_count": 16,
   "metadata": {
    "ExecuteTime": {
     "end_time": "2021-06-07T11:19:23.511173Z",
     "start_time": "2021-06-07T11:19:23.432Z"
    },
    "slideshow": {
     "slide_type": "slide"
    }
   },
   "outputs": [
    {
     "name": "stdout",
     "output_type": "stream",
     "text": [
      "\n",
      "Study: gy ~ rep\n",
      "\n",
      "Duncan's new multiple range test\n",
      "for gy \n",
      "\n",
      "Mean Square Error:  110558.4 \n",
      "\n",
      "rep,  means\n",
      "\n",
      "        gy      std r  Min  Max\n",
      "1 5158.833 192.3168 6 4804 5346\n",
      "2 5214.000 558.5213 6 4542 5952\n",
      "3 4974.333 382.6035 6 4432 5483\n",
      "4 4491.167 275.7248 6 4098 4749\n",
      "\n",
      "Alpha: 0.05 ; DF Error: 15 \n",
      "\n",
      "Critical Range\n",
      "       2        3        4 \n",
      "409.1761 428.9271 441.2013 \n",
      "\n",
      "Means with the same letter are not significantly different.\n",
      "\n",
      "        gy groups\n",
      "2 5214.000      a\n",
      "1 5158.833      a\n",
      "3 4974.333      a\n",
      "4 4491.167      b\n"
     ]
    }
   ],
   "source": [
    "dm=with(kapil,duncan.test(gy,rep,15,110558.4,alpha = 0.05,console = TRUE))"
   ]
  },
  {
   "cell_type": "code",
   "execution_count": 17,
   "metadata": {
    "ExecuteTime": {
     "end_time": "2021-06-07T11:19:39.120228Z",
     "start_time": "2021-06-07T11:19:39.059Z"
    },
    "slideshow": {
     "slide_type": "slide"
    }
   },
   "outputs": [
    {
     "data": {
      "image/png": "[encoded data removed]",
      "text/plain": [
       "Plot with title \"Groups and Range\""
      ]
     },
     "metadata": {},
     "output_type": "display_data"
    }
   ],
   "source": [
    "plot(dm)"
   ]
  },
  {
   "cell_type": "code",
   "execution_count": 18,
   "metadata": {
    "ExecuteTime": {
     "end_time": "2021-06-07T11:19:55.487321Z",
     "start_time": "2021-06-07T11:19:55.420Z"
    },
    "slideshow": {
     "slide_type": "slide"
    }
   },
   "outputs": [
    {
     "data": {
      "image/png": "[encoded data removed]",
      "text/plain": [
       "Plot with title \"Groups and Range\""
      ]
     },
     "metadata": {},
     "output_type": "display_data"
    }
   ],
   "source": [
    "figdm = plot(dmout,pch=19,legend=TRUE,xlab = \"treatment\",ylab=\"Grain yield\")"
   ]
  },
  {
   "cell_type": "code",
   "execution_count": 19,
   "metadata": {
    "ExecuteTime": {
     "end_time": "2021-06-07T11:20:06.389170Z",
     "start_time": "2021-06-07T11:20:06.323Z"
    },
    "slideshow": {
     "slide_type": "slide"
    }
   },
   "outputs": [
    {
     "name": "stdout",
     "output_type": "stream",
     "text": [
      "\n",
      "Study: fit ~ \"treatment\"\n",
      "\n",
      "LSD t Test for gy \n",
      "\n",
      "Mean Square Error:  110558.4 \n",
      "\n",
      "treatment,  means and individual ( 95 %) CI\n",
      "\n",
      "       gy      std r      LCL      UCL  Min  Max\n",
      "1 5124.00 320.2093 4 4769.643 5478.357 4678 5398\n",
      "2 5070.25 736.4185 4 4715.893 5424.607 4264 5952\n",
      "3 5304.25 411.6515 4 4949.893 5658.607 4749 5713\n",
      "4 4847.75 321.9900 4 4493.393 5202.107 4410 5164\n",
      "5 4708.00 188.4958 4 4353.643 5062.357 4432 4848\n",
      "6 4703.25 497.3941 4 4348.893 5057.607 4098 5254\n",
      "\n",
      "Alpha: 0.05 ; DF Error: 15\n",
      "Critical Value of t: 2.13145 \n",
      "\n",
      "least Significant Difference: 501.1364 \n",
      "\n",
      "Treatments with the same letter are not significantly different.\n",
      "\n",
      "       gy groups\n",
      "3 5304.25      a\n",
      "1 5124.00     ab\n",
      "2 5070.25     ab\n",
      "4 4847.75     ab\n",
      "5 4708.00      b\n",
      "6 4703.25      b\n"
     ]
    }
   ],
   "source": [
    "lsdout =LSD.test(fit,\"treatment\", alpha = 0.05,console =TRUE)"
   ]
  },
  {
   "cell_type": "code",
   "execution_count": 20,
   "metadata": {
    "ExecuteTime": {
     "end_time": "2021-06-07T11:20:47.775874Z",
     "start_time": "2021-06-07T11:20:47.705Z"
    },
    "slideshow": {
     "slide_type": "slide"
    }
   },
   "outputs": [
    {
     "data": {
      "image/png": "[encoded data removed]",
      "text/plain": [
       "Plot with title \"Groups and Range\""
      ]
     },
     "metadata": {},
     "output_type": "display_data"
    }
   ],
   "source": [
    "plot(lsdout)"
   ]
  },
  {
   "cell_type": "code",
   "execution_count": 21,
   "metadata": {
    "ExecuteTime": {
     "end_time": "2021-06-07T11:20:53.886321Z",
     "start_time": "2021-06-07T11:20:53.804Z"
    },
    "scrolled": true,
    "slideshow": {
     "slide_type": "slide"
    }
   },
   "outputs": [
    {
     "data": {
      "text/plain": [
       "$statistics\n",
       "   MSerror Df     Mean       CV      MSD\n",
       "  110558.4 15 4959.583 6.704258 763.8821\n",
       "\n",
       "$parameters\n",
       "   test    name.t ntr StudentizedRange alpha\n",
       "  Tukey treatment   6         4.594735  0.05\n",
       "\n",
       "$means\n",
       "       gy      std r  Min  Max     Q25    Q50     Q75\n",
       "1 5124.00 320.2093 4 4678 5398 5004.25 5210.0 5329.75\n",
       "2 5070.25 736.4185 4 4264 5952 4605.25 5032.5 5497.50\n",
       "3 5304.25 411.6515 4 4749 5713 5141.25 5377.5 5540.50\n",
       "4 4847.75 321.9900 4 4410 5164 4725.75 4908.5 5030.50\n",
       "5 4708.00 188.4958 4 4432 4848 4669.00 4776.0 4815.00\n",
       "6 4703.25 497.3941 4 4098 5254 4431.00 4730.5 5002.75\n",
       "\n",
       "$comparison\n",
       "NULL\n",
       "\n",
       "$groups\n",
       "       gy groups\n",
       "3 5304.25      a\n",
       "1 5124.00      a\n",
       "2 5070.25      a\n",
       "4 4847.75      a\n",
       "5 4708.00      a\n",
       "6 4703.25      a\n",
       "\n",
       "attr(,\"class\")\n",
       "[1] \"group\""
      ]
     },
     "metadata": {},
     "output_type": "display_data"
    }
   ],
   "source": [
    "HSD<- HSD.test(fit,\"treatment\", alpha=0.05, group =TRUE)\n",
    "HSD"
   ]
  },
  {
   "cell_type": "code",
   "execution_count": 22,
   "metadata": {
    "ExecuteTime": {
     "end_time": "2021-06-07T11:21:16.057376Z",
     "start_time": "2021-06-07T11:21:15.987Z"
    },
    "slideshow": {
     "slide_type": "slide"
    }
   },
   "outputs": [
    {
     "data": {
      "image/png": "[encoded data removed]",
      "text/plain": [
       "Plot with title \"Groups and Range\""
      ]
     },
     "metadata": {},
     "output_type": "display_data"
    }
   ],
   "source": [
    "plot(HSD)"
   ]
  }
 ],
 "metadata": {
  "celltoolbar": "Slideshow",
  "kernelspec": {
   "display_name": "R",
   "language": "R",
   "name": "ir"
  },
  "language_info": {
   "codemirror_mode": "r",
   "file_extension": ".r",
   "mimetype": "text/x-r-source",
   "name": "R",
   "pygments_lexer": "r",
   "version": "3.6.1"
  },
  "latex_envs": {
   "LaTeX_envs_menu_present": true,
   "autoclose": true,
   "autocomplete": true,
   "bibliofile": "biblio.bib",
   "cite_by": "apalike",
   "current_citInitial": 1,
   "eqLabelWithNumbers": true,
   "eqNumInitial": 1,
   "hotkeys": {
    "equation": "Ctrl-E",
    "itemize": "Ctrl-I"
   },
   "labels_anchors": false,
   "latex_user_defs": false,
   "report_style_numbering": false,
   "user_envs_cfg": false
  }
 },
 "nbformat": 4,
 "nbformat_minor": 4
}
