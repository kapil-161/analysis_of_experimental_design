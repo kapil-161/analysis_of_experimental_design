{
 "cells": [
  {
   "cell_type": "code",
   "execution_count": 1,
   "metadata": {
    "ExecuteTime": {
     "end_time": "2021-06-07T11:29:27.079933Z",
     "start_time": "2021-06-07T11:29:26.598Z"
    },
    "scrolled": false,
    "slideshow": {
     "slide_type": "slide"
    }
   },
   "outputs": [
    {
     "name": "stderr",
     "output_type": "stream",
     "text": [
      "Loading required package: agricolae\n"
     ]
    }
   ],
   "source": [
    "require(agricolae)"
   ]
  },
  {
   "cell_type": "code",
   "execution_count": 2,
   "metadata": {
    "ExecuteTime": {
     "end_time": "2021-06-07T11:29:42.509228Z",
     "start_time": "2021-06-07T11:29:41.251Z"
    },
    "slideshow": {
     "slide_type": "slide"
    }
   },
   "outputs": [
    {
     "name": "stderr",
     "output_type": "stream",
     "text": [
      "Loading required package: lme4\n",
      "Warning message:\n",
      "\"package 'lme4' was built under R version 3.6.3\"Loading required package: Matrix\n"
     ]
    }
   ],
   "source": [
    "require(lme4)"
   ]
  },
  {
   "cell_type": "code",
   "execution_count": 5,
   "metadata": {
    "ExecuteTime": {
     "end_time": "2021-06-07T11:34:08.127915Z",
     "start_time": "2021-06-07T11:34:08.101Z"
    },
    "slideshow": {
     "slide_type": "slide"
    }
   },
   "outputs": [],
   "source": [
    "require(readr)"
   ]
  },
  {
   "cell_type": "code",
   "execution_count": 6,
   "metadata": {
    "ExecuteTime": {
     "end_time": "2021-06-07T11:34:11.052927Z",
     "start_time": "2021-06-07T11:34:11.007Z"
    },
    "slideshow": {
     "slide_type": "skip"
    }
   },
   "outputs": [
    {
     "name": "stderr",
     "output_type": "stream",
     "text": [
      "Loading required package: repr\n",
      "Warning message:\n",
      "\"package 'repr' was built under R version 3.6.3\""
     ]
    }
   ],
   "source": [
    "require(repr)\n",
    "options(repr.plot.width=4, repr.plot.height=4)"
   ]
  },
  {
   "cell_type": "code",
   "execution_count": 7,
   "metadata": {
    "ExecuteTime": {
     "end_time": "2021-06-07T11:34:21.849284Z",
     "start_time": "2021-06-07T11:34:21.823Z"
    },
    "slideshow": {
     "slide_type": "slide"
    }
   },
   "outputs": [],
   "source": [
    "naba$rep=as.factor(naba$rep)\n",
    "naba$nit=as.factor(naba$nit)\n",
    "naba$var=as.factor(naba$var)"
   ]
  },
  {
   "cell_type": "code",
   "execution_count": 8,
   "metadata": {
    "ExecuteTime": {
     "end_time": "2021-06-07T11:34:25.992981Z",
     "start_time": "2021-06-07T11:34:25.965Z"
    }
   },
   "outputs": [],
   "source": [
    "attach(naba)"
   ]
  },
  {
   "cell_type": "code",
   "execution_count": null,
   "metadata": {},
   "outputs": [],
   "source": []
  },
  {
   "cell_type": "code",
   "execution_count": 9,
   "metadata": {
    "ExecuteTime": {
     "end_time": "2021-06-07T11:38:04.571962Z",
     "start_time": "2021-06-07T11:38:04.525Z"
    },
    "scrolled": true,
    "slideshow": {
     "slide_type": "slide"
    }
   },
   "outputs": [
    {
     "name": "stdout",
     "output_type": "stream",
     "text": [
      "\n",
      "ANALYSIS SPLIT PLOT:  value \n",
      "Class level information\n",
      "\n",
      "nit \t:  n0 n1 n2 n3 n4 n5 \n",
      "var \t:  v1 v2 v3 v4 \n",
      "rep \t:  rep1 rep2 rep3 \n",
      "\n",
      "Number of observations:  72 \n",
      "\n",
      "Analysis of Variance Table\n",
      "\n",
      "Response: value\n",
      "        Df   Sum Sq  Mean Sq F value    Pr(>F)    \n",
      "rep      2  1082577   541288                      \n",
      "nit      5 30429200  6085840  42.868 1.950e-06 ***\n",
      "Ea      10  1419679   141968                      \n",
      "var      3 89888101 29962700  85.711 2.220e-16 ***\n",
      "nit:var 15 69343487  4622899  13.224 2.105e-10 ***\n",
      "Eb      36 12584873   349580                      \n",
      "---\n",
      "Signif. codes:  0 '***' 0.001 '**' 0.01 '*' 0.05 '.' 0.1 ' ' 1\n",
      "\n",
      "cv(a) = 6.9 %, cv(b) = 10.8 %, Mean = 5478.903 \n",
      "\n"
     ]
    },
    {
     "data": {
      "text/plain": [
       "      Length Class  Mode   \n",
       "ANOVA 5      anova  list   \n",
       "gl.a  1      -none- numeric\n",
       "gl.b  1      -none- numeric\n",
       "Ea    1      -none- numeric\n",
       "Eb    1      -none- numeric"
      ]
     },
     "metadata": {},
     "output_type": "display_data"
    }
   ],
   "source": [
    "#require(agricolae)\n",
    "model<-with(naba,sp.plot(rep,nit,var,value))\n",
    "summary(model)"
   ]
  },
  {
   "cell_type": "code",
   "execution_count": 10,
   "metadata": {
    "ExecuteTime": {
     "end_time": "2021-06-07T11:39:00.735483Z",
     "start_time": "2021-06-07T11:39:00.694Z"
    },
    "slideshow": {
     "slide_type": "slide"
    }
   },
   "outputs": [
    {
     "data": {
      "text/html": [
       "141967.880555555"
      ],
      "text/latex": [
       "141967.880555555"
      ],
      "text/markdown": [
       "141967.880555555"
      ],
      "text/plain": [
       "[1] 141967.9"
      ]
     },
     "metadata": {},
     "output_type": "display_data"
    },
    {
     "data": {
      "text/html": [
       "10"
      ],
      "text/latex": [
       "10"
      ],
      "text/markdown": [
       "10"
      ],
      "text/plain": [
       "[1] 10"
      ]
     },
     "metadata": {},
     "output_type": "display_data"
    },
    {
     "data": {
      "text/html": [
       "36"
      ],
      "text/latex": [
       "36"
      ],
      "text/markdown": [
       "36"
      ],
      "text/plain": [
       "[1] 36"
      ]
     },
     "metadata": {},
     "output_type": "display_data"
    },
    {
     "data": {
      "text/html": [
       "349579.810185185"
      ],
      "text/latex": [
       "349579.810185185"
      ],
      "text/markdown": [
       "349579.810185185"
      ],
      "text/plain": [
       "[1] 349579.8"
      ]
     },
     "metadata": {},
     "output_type": "display_data"
    }
   ],
   "source": [
    "model$Ea\n",
    "model$gl.a\n",
    "model$gl.b\n",
    "model$Eb"
   ]
  },
  {
   "cell_type": "code",
   "execution_count": 11,
   "metadata": {
    "ExecuteTime": {
     "end_time": "2021-06-07T11:39:35.575290Z",
     "start_time": "2021-06-07T11:39:35.474Z"
    },
    "slideshow": {
     "slide_type": "slide"
    }
   },
   "outputs": [
    {
     "data": {
      "text/plain": [
       "Linear mixed model fit by REML ['lmerMod']\n",
       "Formula: value ~ rep * nit + nit * var + (1 | rep)\n",
       "   Data: naba\n",
       "REML criterion at convergence: 598.0957\n",
       "Random effects:\n",
       " Groups   Name        Std.Dev.\n",
       " rep      (Intercept)  43.11  \n",
       " Residual             591.25  \n",
       "Number of obs: 72, groups:  rep, 3\n",
       "Fixed Effects:\n",
       "  (Intercept)        reprep2        reprep3          nitn1          nitn2  \n",
       "      4187.83         313.50        -119.00        1476.00        2064.42  \n",
       "        nitn3          nitn4          nitn5          varv2          varv3  \n",
       "      2222.17        3430.00        4346.58          53.33       -1069.33  \n",
       "        varv4  reprep2:nitn1  reprep3:nitn1  reprep2:nitn2  reprep3:nitn2  \n",
       "       228.67        -375.50         205.50         -28.25         277.00  \n",
       "reprep2:nitn3  reprep3:nitn3  reprep2:nitn4  reprep3:nitn4  reprep2:nitn5  \n",
       "       383.25         390.25        -414.00          56.00         236.25  \n",
       "reprep3:nitn5    nitn1:varv2    nitn2:varv2    nitn3:varv2    nitn4:varv2  \n",
       "        68.00         256.67        -194.33         109.00        -666.00  \n",
       "  nitn5:varv2    nitn1:varv3    nitn2:varv3    nitn3:varv3    nitn4:varv3  \n",
       "     -2213.67         840.00         663.33         350.67         193.33  \n",
       "  nitn5:varv3    nitn1:varv4    nitn2:varv4    nitn3:varv4    nitn4:varv4  \n",
       "     -1566.00       -1084.67       -1816.67       -3145.33       -5745.33  \n",
       "  nitn5:varv4  \n",
       "     -7048.67  "
      ]
     },
     "metadata": {},
     "output_type": "display_data"
    }
   ],
   "source": [
    "kapils <- lmer(\"value ~ rep*nit+nit*var+(1|rep)\", data=naba)\n",
    "kapils"
   ]
  },
  {
   "cell_type": "code",
   "execution_count": 12,
   "metadata": {
    "ExecuteTime": {
     "end_time": "2021-06-07T11:39:42.061965Z",
     "start_time": "2021-06-07T11:39:42.022Z"
    },
    "slideshow": {
     "slide_type": "slide"
    }
   },
   "outputs": [
    {
     "data": {
      "text/html": [
       "<table class=\"dataframe\">\n",
       "<caption>A anova: 5 × 4</caption>\n",
       "<thead>\n",
       "\t<tr><th></th><th scope=col>npar</th><th scope=col>Sum Sq</th><th scope=col>Mean Sq</th><th scope=col>F value</th></tr>\n",
       "\t<tr><th></th><th scope=col>&lt;int&gt;</th><th scope=col>&lt;dbl&gt;</th><th scope=col>&lt;dbl&gt;</th><th scope=col>&lt;dbl&gt;</th></tr>\n",
       "</thead>\n",
       "<tbody>\n",
       "\t<tr><th scope=row>rep</th><td> 2</td><td>  960096</td><td>  480048.0</td><td> 1.3732144</td></tr>\n",
       "\t<tr><th scope=row>nit</th><td> 5</td><td>30429200</td><td> 6085839.9</td><td>17.4090143</td></tr>\n",
       "\t<tr><th scope=row>var</th><td> 3</td><td>89888101</td><td>29962700.4</td><td>85.7106146</td></tr>\n",
       "\t<tr><th scope=row>rep:nit</th><td>10</td><td> 1419679</td><td>  141967.9</td><td> 0.4061101</td></tr>\n",
       "\t<tr><th scope=row>nit:var</th><td>15</td><td>69343487</td><td> 4622899.1</td><td>13.2241594</td></tr>\n",
       "</tbody>\n",
       "</table>\n"
      ],
      "text/latex": [
       "A anova: 5 × 4\n",
       "\\begin{tabular}{r|llll}\n",
       "  & npar & Sum Sq & Mean Sq & F value\\\\\n",
       "  & <int> & <dbl> & <dbl> & <dbl>\\\\\n",
       "\\hline\n",
       "\trep &  2 &   960096 &   480048.0 &  1.3732144\\\\\n",
       "\tnit &  5 & 30429200 &  6085839.9 & 17.4090143\\\\\n",
       "\tvar &  3 & 89888101 & 29962700.4 & 85.7106146\\\\\n",
       "\trep:nit & 10 &  1419679 &   141967.9 &  0.4061101\\\\\n",
       "\tnit:var & 15 & 69343487 &  4622899.1 & 13.2241594\\\\\n",
       "\\end{tabular}\n"
      ],
      "text/markdown": [
       "\n",
       "A anova: 5 × 4\n",
       "\n",
       "| <!--/--> | npar &lt;int&gt; | Sum Sq &lt;dbl&gt; | Mean Sq &lt;dbl&gt; | F value &lt;dbl&gt; |\n",
       "|---|---|---|---|---|\n",
       "| rep |  2 |   960096 |   480048.0 |  1.3732144 |\n",
       "| nit |  5 | 30429200 |  6085839.9 | 17.4090143 |\n",
       "| var |  3 | 89888101 | 29962700.4 | 85.7106146 |\n",
       "| rep:nit | 10 |  1419679 |   141967.9 |  0.4061101 |\n",
       "| nit:var | 15 | 69343487 |  4622899.1 | 13.2241594 |\n",
       "\n"
      ],
      "text/plain": [
       "        npar Sum Sq   Mean Sq    F value   \n",
       "rep      2     960096   480048.0  1.3732144\n",
       "nit      5   30429200  6085839.9 17.4090143\n",
       "var      3   89888101 29962700.4 85.7106146\n",
       "rep:nit 10    1419679   141967.9  0.4061101\n",
       "nit:var 15   69343487  4622899.1 13.2241594"
      ]
     },
     "metadata": {},
     "output_type": "display_data"
    }
   ],
   "source": [
    "anova(kapils)"
   ]
  },
  {
   "cell_type": "code",
   "execution_count": 13,
   "metadata": {
    "ExecuteTime": {
     "end_time": "2021-06-07T11:40:59.131384Z",
     "start_time": "2021-06-07T11:40:59.051Z"
    },
    "slideshow": {
     "slide_type": "slide"
    }
   },
   "outputs": [
    {
     "name": "stdout",
     "output_type": "stream",
     "text": [
      "\n",
      "Study: value ~ nit\n",
      "\n",
      "HSD Test for value \n",
      "\n",
      "Mean Square Error:  141967.9 \n",
      "\n",
      "nit,  means\n",
      "\n",
      "      value       std  r  Min  Max\n",
      "n0 4055.833  696.0603 12 2944 5314\n",
      "n1 5478.167  641.7666 12 4604 6502\n",
      "n2 5866.250  777.1952 12 4146 6704\n",
      "n3 5864.417 1390.2291 12 2774 7139\n",
      "n4 5812.000 2337.3706 12 1414 7848\n",
      "n5 5796.750 2636.4221 12 1380 8832\n",
      "\n",
      "Alpha: 0.05 ; DF Error: 10 \n",
      "Critical Value of Studentized Range: 4.912016 \n",
      "\n",
      "Minimun Significant Difference: 534.2742 \n",
      "\n",
      "Treatments with the same letter are not significantly different.\n",
      "\n",
      "      value groups\n",
      "n2 5866.250      a\n",
      "n3 5864.417      a\n",
      "n4 5812.000      a\n",
      "n5 5796.750      a\n",
      "n1 5478.167      a\n",
      "n0 4055.833      b\n"
     ]
    }
   ],
   "source": [
    "dmout = with(naba,HSD.test(value,nit,DFerror = model$gl.a, MSerror =model$Ea,alpha = 0.05,console =TRUE))"
   ]
  },
  {
   "cell_type": "code",
   "execution_count": 14,
   "metadata": {
    "ExecuteTime": {
     "end_time": "2021-06-07T11:41:12.687278Z",
     "start_time": "2021-06-07T11:41:12.618Z"
    },
    "slideshow": {
     "slide_type": "slide"
    }
   },
   "outputs": [
    {
     "name": "stdout",
     "output_type": "stream",
     "text": [
      "\n",
      "Study: value ~ var\n",
      "\n",
      "LSD t Test for value \n",
      "\n",
      "Mean Square Error:  349579.8 \n",
      "\n",
      "var,  means and individual ( 95 %) CI\n",
      "\n",
      "      value      std  r      LCL      UCL  Min  Max\n",
      "v1 6553.556 1476.074 18 6270.921 6836.190 3850 8832\n",
      "v2 6155.500 1048.227 18 5872.866 6438.134 3660 7682\n",
      "v3 5564.444 1235.991 18 5281.810 5847.079 2944 7122\n",
      "v4 3642.111 1396.858 18 3359.477 3924.745 1380 5744\n",
      "\n",
      "Alpha: 0.05 ; DF Error: 36\n",
      "Critical Value of t: 2.028094 \n",
      "\n",
      "least Significant Difference: 399.7054 \n",
      "\n",
      "Treatments with the same letter are not significantly different.\n",
      "\n",
      "      value groups\n",
      "v1 6553.556      a\n",
      "v2 6155.500      a\n",
      "v3 5564.444      b\n",
      "v4 3642.111      c\n"
     ]
    }
   ],
   "source": [
    "dmout = with(naba,LSD.test(value,var,DFerror = model$gl.b, MSerror =model$Eb ,alpha = 0.05,console =TRUE)) #"
   ]
  },
  {
   "cell_type": "code",
   "execution_count": 15,
   "metadata": {
    "ExecuteTime": {
     "end_time": "2021-06-07T11:41:26.017706Z",
     "start_time": "2021-06-07T11:41:25.810Z"
    },
    "slideshow": {
     "slide_type": "slide"
    }
   },
   "outputs": [
    {
     "name": "stdout",
     "output_type": "stream",
     "text": [
      "\n",
      "Study: value ~ var:nit\n",
      "\n",
      "HSD Test for value \n",
      "\n",
      "Mean Square Error:  349579.8 \n",
      "\n",
      "var:nit,  means\n",
      "\n",
      "         value       std r  Min  Max\n",
      "v1:n0 4252.667  349.5445 3 3850 4478\n",
      "v1:n1 5672.000  670.1313 3 5166 6432\n",
      "v1:n2 6400.000  314.4773 3 6076 6704\n",
      "v1:n3 6732.667  300.4818 3 6462 7056\n",
      "v1:n4 7563.333  279.1726 3 7290 7848\n",
      "v1:n5 8700.667  215.4654 3 8452 8832\n",
      "v2:n0 4306.000  884.4275 3 3660 5314\n",
      "v2:n1 5982.000  470.4211 3 5586 6502\n",
      "v2:n2 6259.000  336.9822 3 6008 6642\n",
      "v2:n3 6895.000  297.2087 3 6564 7139\n",
      "v2:n4 6950.667  633.4172 3 6576 7682\n",
      "v2:n5 6540.333  741.5891 3 6006 7387\n",
      "v3:n0 3183.333  262.4525 3 2944 3464\n",
      "v3:n1 5442.667  625.7454 3 4768 6004\n",
      "v3:n2 5994.000  260.5763 3 5724 6244\n",
      "v3:n3 6014.000  311.4290 3 5792 6370\n",
      "v3:n4 6687.333  380.6328 3 6320 7080\n",
      "v3:n5 6065.333  916.8737 3 5480 7122\n",
      "v4:n0 4481.333  355.0005 3 4126 4836\n",
      "v4:n1 4816.000  326.5088 3 4604 5192\n",
      "v4:n2 4812.000  831.5455 3 4146 5744\n",
      "v4:n3 3816.000 1141.4570 3 2774 5036\n",
      "v4:n4 2046.667  680.1539 3 1414 2766\n",
      "v4:n5 1880.667  449.0984 3 1380 2248\n",
      "\n",
      "Alpha: 0.05 ; DF Error: 36 \n",
      "Critical Value of Studentized Range: 5.554566 \n",
      "\n",
      "Minimun Significant Difference: 1896.106 \n",
      "\n",
      "Treatments with the same letter are not significantly different.\n",
      "\n",
      "         value groups\n",
      "v1:n5 8700.667      a\n",
      "v1:n4 7563.333     ab\n",
      "v2:n4 6950.667    abc\n",
      "v2:n3 6895.000    abc\n",
      "v1:n3 6732.667     bc\n",
      "v3:n4 6687.333    bcd\n",
      "v2:n5 6540.333    bcd\n",
      "v1:n2 6400.000    bcd\n",
      "v2:n2 6259.000   bcde\n",
      "v3:n5 6065.333  bcdef\n",
      "v3:n3 6014.000  bcdef\n",
      "v3:n2 5994.000  bcdef\n",
      "v2:n1 5982.000  bcdef\n",
      "v1:n1 5672.000 bcdefg\n",
      "v3:n1 5442.667  cdefg\n",
      "v4:n1 4816.000  defgh\n",
      "v4:n2 4812.000  defgh\n",
      "v4:n0 4481.333   efgh\n",
      "v2:n0 4306.000    fgh\n",
      "v1:n0 4252.667    fgh\n",
      "v4:n3 3816.000    ghi\n",
      "v3:n0 3183.333    hij\n",
      "v4:n4 2046.667     ij\n",
      "v4:n5 1880.667      j\n"
     ]
    }
   ],
   "source": [
    "dmout = with(naba,HSD.test(value,var:nit,model$gl.b, MSerror=model$Eb,alpha = 0.05,console =TRUE))"
   ]
  },
  {
   "cell_type": "code",
   "execution_count": null,
   "metadata": {},
   "outputs": [],
   "source": []
  },
  {
   "cell_type": "code",
   "execution_count": null,
   "metadata": {},
   "outputs": [],
   "source": []
  }
 ],
 "metadata": {
  "celltoolbar": "Slideshow",
  "kernelspec": {
   "display_name": "R",
   "language": "R",
   "name": "ir"
  },
  "language_info": {
   "codemirror_mode": "r",
   "file_extension": ".r",
   "mimetype": "text/x-r-source",
   "name": "R",
   "pygments_lexer": "r",
   "version": "3.6.1"
  },
  "latex_envs": {
   "LaTeX_envs_menu_present": true,
   "autoclose": true,
   "autocomplete": true,
   "bibliofile": "biblio.bib",
   "cite_by": "apalike",
   "current_citInitial": 1,
   "eqLabelWithNumbers": true,
   "eqNumInitial": 1,
   "hotkeys": {
    "equation": "Ctrl-E",
    "itemize": "Ctrl-I"
   },
   "labels_anchors": false,
   "latex_user_defs": false,
   "report_style_numbering": false,
   "user_envs_cfg": false
  }
 },
 "nbformat": 4,
 "nbformat_minor": 4
}
