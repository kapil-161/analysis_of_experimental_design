{
 "cells": [
  {
   "cell_type": "code",
   "execution_count": 1,
   "metadata": {
    "ExecuteTime": {
     "end_time": "2021-06-07T10:38:16.664581Z",
     "start_time": "2021-06-07T10:38:12.625Z"
    },
    "scrolled": true,
    "slideshow": {
     "slide_type": "slide"
    }
   },
   "outputs": [
    {
     "name": "stderr",
     "output_type": "stream",
     "text": [
      "Loading required package: readr\n",
      "Warning message:\n",
      "\"package 'readr' was built under R version 3.6.3\"Loading required package: agricolae\n",
      "Loading required package: car\n",
      "Warning message:\n",
      "\"package 'car' was built under R version 3.6.3\"Loading required package: carData\n",
      "Warning message:\n",
      "\"package 'carData' was built under R version 3.6.3\"Loading required package: gvlma\n",
      "Loading required package: ggplot2\n",
      "Warning message:\n",
      "\"package 'ggplot2' was built under R version 3.6.3\"Loading required package: rcompanion\n",
      "Loading required package: DescTools\n",
      "Warning message:\n",
      "\"package 'DescTools' was built under R version 3.6.3\"\n",
      "Attaching package: 'DescTools'\n",
      "\n",
      "The following object is masked from 'package:car':\n",
      "\n",
      "    Recode\n",
      "\n",
      "Loading required package: MASS\n",
      "Warning message:\n",
      "\"package 'MASS' was built under R version 3.6.3\""
     ]
    }
   ],
   "source": [
    "require(readr)\n",
    "require(agricolae)\n",
    "require(car)\n",
    "require(gvlma)\n",
    "require(ggplot2)\n",
    "require(rcompanion)\n",
    "require(DescTools)\n",
    "require(MASS)"
   ]
  },
  {
   "cell_type": "raw",
   "metadata": {
    "slideshow": {
     "slide_type": "skip"
    }
   },
   "source": [
    "require(rcompanion)\n",
    "require(multcompView)\n",
    "require(multcomp)\n",
    "require(ggstatsplot)\n",
    "require(DescTools)\n",
    "require(GGally)\n",
    "require(corrplot)"
   ]
  },
  {
   "cell_type": "raw",
   "metadata": {
    "ExecuteTime": {
     "end_time": "2021-05-30T23:21:10.982632Z",
     "start_time": "2021-05-30T23:20:51.319Z"
    },
    "slideshow": {
     "slide_type": "skip"
    }
   },
   "source": [
    "require(Mass)\n",
    "require(hrbrthemes)\n",
    "require(FSA)\n",
    "require(lattice)\n",
    "require(psych)\n",
    "require(bestnormailze)"
   ]
  },
  {
   "cell_type": "code",
   "execution_count": 2,
   "metadata": {
    "ExecuteTime": {
     "end_time": "2021-06-07T10:38:22.745878Z",
     "start_time": "2021-06-07T10:38:21.904Z"
    },
    "slideshow": {
     "slide_type": "slide"
    }
   },
   "outputs": [
    {
     "name": "stderr",
     "output_type": "stream",
     "text": [
      "\n",
      "\u001b[36m--\u001b[39m \u001b[1m\u001b[1mColumn specification\u001b[1m\u001b[22m \u001b[36m--------------------------------------------------------\u001b[39m\n",
      "cols(\n",
      "  trt = col_double(),\n",
      "  value = col_double()\n",
      ")\n",
      "\n"
     ]
    }
   ],
   "source": [
    "#require(readr)\n",
    "CRD <- read_csv(\"CRD.csv\")"
   ]
  },
  {
   "cell_type": "code",
   "execution_count": 3,
   "metadata": {
    "ExecuteTime": {
     "end_time": "2021-06-07T10:38:25.167970Z",
     "start_time": "2021-06-07T10:38:25.120Z"
    },
    "slideshow": {
     "slide_type": "slide"
    }
   },
   "outputs": [],
   "source": [
    "attach(CRD)"
   ]
  },
  {
   "cell_type": "code",
   "execution_count": 4,
   "metadata": {
    "ExecuteTime": {
     "end_time": "2021-06-07T10:38:29.808138Z",
     "start_time": "2021-06-07T10:38:29.729Z"
    },
    "slideshow": {
     "slide_type": "slide"
    }
   },
   "outputs": [
    {
     "data": {
      "text/html": [
       "<style>\n",
       ".list-inline {list-style: none; margin:0; padding: 0}\n",
       ".list-inline>li {display: inline-block}\n",
       ".list-inline>li:not(:last-child)::after {content: \"\\00b7\"; padding: 0 .5ex}\n",
       "</style>\n",
       "<ol class=list-inline><li>'trt'</li><li>'value'</li></ol>\n"
      ],
      "text/latex": [
       "\\begin{enumerate*}\n",
       "\\item 'trt'\n",
       "\\item 'value'\n",
       "\\end{enumerate*}\n"
      ],
      "text/markdown": [
       "1. 'trt'\n",
       "2. 'value'\n",
       "\n",
       "\n"
      ],
      "text/plain": [
       "[1] \"trt\"   \"value\""
      ]
     },
     "metadata": {},
     "output_type": "display_data"
    }
   ],
   "source": [
    "names(CRD)"
   ]
  },
  {
   "cell_type": "code",
   "execution_count": 5,
   "metadata": {
    "ExecuteTime": {
     "end_time": "2021-06-07T10:38:32.484903Z",
     "start_time": "2021-06-07T10:38:32.415Z"
    },
    "slideshow": {
     "slide_type": "slide"
    }
   },
   "outputs": [
    {
     "data": {
      "text/html": [
       "<table class=\"dataframe\">\n",
       "<caption>A tibble: 6 × 2</caption>\n",
       "<thead>\n",
       "\t<tr><th scope=col>trt</th><th scope=col>value</th></tr>\n",
       "\t<tr><th scope=col>&lt;dbl&gt;</th><th scope=col>&lt;dbl&gt;</th></tr>\n",
       "</thead>\n",
       "<tbody>\n",
       "\t<tr><td>1</td><td>850.50</td></tr>\n",
       "\t<tr><td>1</td><td>453.60</td></tr>\n",
       "\t<tr><td>1</td><td>878.85</td></tr>\n",
       "\t<tr><td>1</td><td>623.70</td></tr>\n",
       "\t<tr><td>1</td><td>510.30</td></tr>\n",
       "\t<tr><td>1</td><td>765.45</td></tr>\n",
       "</tbody>\n",
       "</table>\n"
      ],
      "text/latex": [
       "A tibble: 6 × 2\n",
       "\\begin{tabular}{ll}\n",
       " trt & value\\\\\n",
       " <dbl> & <dbl>\\\\\n",
       "\\hline\n",
       "\t 1 & 850.50\\\\\n",
       "\t 1 & 453.60\\\\\n",
       "\t 1 & 878.85\\\\\n",
       "\t 1 & 623.70\\\\\n",
       "\t 1 & 510.30\\\\\n",
       "\t 1 & 765.45\\\\\n",
       "\\end{tabular}\n"
      ],
      "text/markdown": [
       "\n",
       "A tibble: 6 × 2\n",
       "\n",
       "| trt &lt;dbl&gt; | value &lt;dbl&gt; |\n",
       "|---|---|\n",
       "| 1 | 850.50 |\n",
       "| 1 | 453.60 |\n",
       "| 1 | 878.85 |\n",
       "| 1 | 623.70 |\n",
       "| 1 | 510.30 |\n",
       "| 1 | 765.45 |\n",
       "\n"
      ],
      "text/plain": [
       "  trt value \n",
       "1 1   850.50\n",
       "2 1   453.60\n",
       "3 1   878.85\n",
       "4 1   623.70\n",
       "5 1   510.30\n",
       "6 1   765.45"
      ]
     },
     "metadata": {},
     "output_type": "display_data"
    }
   ],
   "source": [
    "head(CRD)"
   ]
  },
  {
   "cell_type": "code",
   "execution_count": 6,
   "metadata": {
    "ExecuteTime": {
     "end_time": "2021-06-07T10:38:45.193381Z",
     "start_time": "2021-06-07T10:38:45.107Z"
    },
    "slideshow": {
     "slide_type": "skip"
    }
   },
   "outputs": [
    {
     "name": "stderr",
     "output_type": "stream",
     "text": [
      "Loading required package: repr\n",
      "Warning message:\n",
      "\"package 'repr' was built under R version 3.6.3\""
     ]
    }
   ],
   "source": [
    "require(repr)\n",
    "options(repr.plot.width=4, repr.plot.height=4)"
   ]
  },
  {
   "cell_type": "code",
   "execution_count": 7,
   "metadata": {
    "ExecuteTime": {
     "end_time": "2021-06-07T10:38:58.425073Z",
     "start_time": "2021-06-07T10:38:58.342Z"
    },
    "slideshow": {
     "slide_type": "slide"
    }
   },
   "outputs": [
    {
     "data": {
      "text/plain": [
       "   Min. 1st Qu.  Median    Mean 3rd Qu.    Max. \n",
       "  368.6   538.6   623.7   679.5   793.8  1474.2 "
      ]
     },
     "metadata": {},
     "output_type": "display_data"
    }
   ],
   "source": [
    "summary(CRD$value)"
   ]
  },
  {
   "cell_type": "code",
   "execution_count": 8,
   "metadata": {
    "ExecuteTime": {
     "end_time": "2021-06-07T10:39:45.556981Z",
     "start_time": "2021-06-07T10:39:45.512Z"
    },
    "slideshow": {
     "slide_type": "slide"
    }
   },
   "outputs": [],
   "source": [
    "trt=as.factor(CRD$trt)"
   ]
  },
  {
   "cell_type": "code",
   "execution_count": 9,
   "metadata": {
    "ExecuteTime": {
     "end_time": "2021-06-07T10:39:52.023696Z",
     "start_time": "2021-06-07T10:39:51.874Z"
    },
    "slideshow": {
     "slide_type": "slide"
    }
   },
   "outputs": [
    {
     "data": {
      "text/plain": [
       "\n",
       "Call:\n",
       "lm(formula = value ~ CRD$trt)\n",
       "\n",
       "Coefficients:\n",
       "(Intercept)      CRD$trt  \n",
       "     590.15        44.65  \n",
       "\n",
       "\n",
       "ASSESSMENT OF THE LINEAR MODEL ASSUMPTIONS\n",
       "USING THE GLOBAL TEST ON 4 DEGREES-OF-FREEDOM:\n",
       "Level of Significance =  0.05 \n",
       "\n",
       "Call:\n",
       " gvlma(x = model) \n",
       "\n",
       "                    Value   p-value                   Decision\n",
       "Global Stat        24.979 0.0000508 Assumptions NOT satisfied!\n",
       "Skewness           12.676 0.0003704 Assumptions NOT satisfied!\n",
       "Kurtosis            5.872 0.0153867 Assumptions NOT satisfied!\n",
       "Link Function       4.538 0.0331458 Assumptions NOT satisfied!\n",
       "Heteroscedasticity  1.893 0.1688297    Assumptions acceptable."
      ]
     },
     "metadata": {},
     "output_type": "display_data"
    }
   ],
   "source": [
    "model=lm(value~CRD$trt)\n",
    "gvmodelfit1=gvlma(model)\n",
    "gvmodelfit1"
   ]
  },
  {
   "cell_type": "code",
   "execution_count": 10,
   "metadata": {
    "ExecuteTime": {
     "end_time": "2021-06-07T10:41:16.550878Z",
     "start_time": "2021-06-07T10:41:16.165Z"
    },
    "slideshow": {
     "slide_type": "slide"
    }
   },
   "outputs": [
    {
     "data": {
      "image/png": "[encoded data removed]",
      "text/plain": [
       "Plot with title \"\""
      ]
     },
     "metadata": {},
     "output_type": "display_data"
    },
    {
     "data": {
      "image/png": "[encoded data removed]",
      "text/plain": [
       "Plot with title \"\""
      ]
     },
     "metadata": {},
     "output_type": "display_data"
    },
    {
     "data": {
      "image/png": "[encoded data removed]",
      "text/plain": [
       "Plot with title \"\""
      ]
     },
     "metadata": {},
     "output_type": "display_data"
    },
    {
     "data": {
      "image/png": "[encoded data removed]",
      "text/plain": [
       "Plot with title \"\""
      ]
     },
     "metadata": {},
     "output_type": "display_data"
    }
   ],
   "source": [
    "a=plot(model)"
   ]
  },
  {
   "cell_type": "code",
   "execution_count": 11,
   "metadata": {
    "ExecuteTime": {
     "end_time": "2021-06-07T10:42:18.036540Z",
     "start_time": "2021-06-07T10:42:17.930Z"
    },
    "slideshow": {
     "slide_type": "slide"
    }
   },
   "outputs": [
    {
     "data": {
      "image/png": "[encoded data removed]",
      "text/plain": [
       "plot without title"
      ]
     },
     "metadata": {},
     "output_type": "display_data"
    }
   ],
   "source": [
    "boxplot(value, pch=19, col=\"blue\")"
   ]
  },
  {
   "cell_type": "markdown",
   "metadata": {
    "slideshow": {
     "slide_type": "slide"
    }
   },
   "source": [
    "## finding out outliers"
   ]
  },
  {
   "cell_type": "code",
   "execution_count": 12,
   "metadata": {
    "ExecuteTime": {
     "end_time": "2021-06-07T10:43:54.167183Z",
     "start_time": "2021-06-07T10:43:54.117Z"
    },
    "slideshow": {
     "slide_type": "slide"
    }
   },
   "outputs": [
    {
     "data": {
      "text/html": [
       "<style>\n",
       ".list-inline {list-style: none; margin:0; padding: 0}\n",
       ".list-inline>li {display: inline-block}\n",
       ".list-inline>li:not(:last-child)::after {content: \"\\00b7\"; padding: 0 .5ex}\n",
       "</style>\n",
       "<ol class=list-inline><li>1474.2</li><li>1190.7</li></ol>\n"
      ],
      "text/latex": [
       "\\begin{enumerate*}\n",
       "\\item 1474.2\n",
       "\\item 1190.7\n",
       "\\end{enumerate*}\n"
      ],
      "text/markdown": [
       "1. 1474.2\n",
       "2. 1190.7\n",
       "\n",
       "\n"
      ],
      "text/plain": [
       "[1] 1474.2 1190.7"
      ]
     },
     "metadata": {},
     "output_type": "display_data"
    }
   ],
   "source": [
    "boxplot.stats(CRD$value)$out\n"
   ]
  },
  {
   "cell_type": "markdown",
   "metadata": {
    "slideshow": {
     "slide_type": "slide"
    }
   },
   "source": [
    "## finding out the the position of outlier in the column"
   ]
  },
  {
   "cell_type": "code",
   "execution_count": 13,
   "metadata": {
    "ExecuteTime": {
     "end_time": "2021-06-07T10:44:07.982548Z",
     "start_time": "2021-06-07T10:44:07.922Z"
    },
    "slideshow": {
     "slide_type": "slide"
    }
   },
   "outputs": [
    {
     "data": {
      "text/html": [
       "<style>\n",
       ".list-inline {list-style: none; margin:0; padding: 0}\n",
       ".list-inline>li {display: inline-block}\n",
       ".list-inline>li:not(:last-child)::after {content: \"\\00b7\"; padding: 0 .5ex}\n",
       "</style>\n",
       "<ol class=list-inline><li>43</li><li>48</li></ol>\n"
      ],
      "text/latex": [
       "\\begin{enumerate*}\n",
       "\\item 43\n",
       "\\item 48\n",
       "\\end{enumerate*}\n"
      ],
      "text/markdown": [
       "1. 43\n",
       "2. 48\n",
       "\n",
       "\n"
      ],
      "text/plain": [
       "[1] 43 48"
      ]
     },
     "metadata": {},
     "output_type": "display_data"
    }
   ],
   "source": [
    "out <- boxplot.stats(CRD$value)$out\n",
    "out_ind <- which(CRD$value %in% c(out))\n",
    "out_ind"
   ]
  },
  {
   "cell_type": "markdown",
   "metadata": {
    "slideshow": {
     "slide_type": "slide"
    }
   },
   "source": [
    "### for detection of outliers "
   ]
  },
  {
   "cell_type": "code",
   "execution_count": 14,
   "metadata": {
    "ExecuteTime": {
     "end_time": "2021-06-07T10:44:17.242579Z",
     "start_time": "2021-06-07T10:44:17.125Z"
    },
    "slideshow": {
     "slide_type": "slide"
    }
   },
   "outputs": [
    {
     "data": {
      "image/png": "[encoded data removed]",
      "text/plain": [
       "Plot with title \"Boxplot of yields\""
      ]
     },
     "metadata": {},
     "output_type": "display_data"
    }
   ],
   "source": [
    "boxplot(CRD$value,\n",
    "        ylab = \"yld\",\n",
    "        main = \"Boxplot of yields\"\n",
    ")\n",
    "mtext(paste(\"Outliers: \", paste(out, collapse = \", \")))"
   ]
  },
  {
   "cell_type": "code",
   "execution_count": 15,
   "metadata": {
    "ExecuteTime": {
     "end_time": "2021-06-07T10:44:58.359368Z",
     "start_time": "2021-06-07T10:44:58.245Z"
    },
    "slideshow": {
     "slide_type": "slide"
    }
   },
   "outputs": [
    {
     "data": {
      "text/plain": [
       " lag Autocorrelation D-W Statistic p-value\n",
       "   1       0.1028152      1.766214    0.28\n",
       " Alternative hypothesis: rho != 0"
      ]
     },
     "metadata": {},
     "output_type": "display_data"
    }
   ],
   "source": [
    "durbinWatsonTest(model) # to test auto correlation and heteroescadiscity"
   ]
  },
  {
   "cell_type": "code",
   "execution_count": 16,
   "metadata": {
    "ExecuteTime": {
     "end_time": "2021-06-07T10:45:20.475953Z",
     "start_time": "2021-06-07T10:45:20.359Z"
    },
    "scrolled": false,
    "slideshow": {
     "slide_type": "slide"
    }
   },
   "outputs": [
    {
     "data": {
      "image/png": "[encoded data removed]",
      "text/plain": [
       "plot without title"
      ]
     },
     "metadata": {},
     "output_type": "display_data"
    }
   ],
   "source": [
    "plot(value~trt,pch = 19, col = \"black\")"
   ]
  },
  {
   "cell_type": "code",
   "execution_count": 17,
   "metadata": {
    "ExecuteTime": {
     "end_time": "2021-06-07T10:45:44.994611Z",
     "start_time": "2021-06-07T10:45:44.545Z"
    },
    "slideshow": {
     "slide_type": "slide"
    }
   },
   "outputs": [
    {
     "data": {
      "text/plain": [
       "------------------------------------------------------------------------------ \n",
       "CRD$value (numeric)\n",
       "\n",
       "      length         n       NAs    unique        0s      mean      meanCI'\n",
       "          60        60         0        25         0  679.4550    625.1341\n",
       "                100.0%      0.0%                0.0%              733.7759\n",
       "                                                                          \n",
       "         .05       .10       .25    median       .75       .90         .95\n",
       "    452.1825  453.6000  538.6500  623.7000  793.8000  966.7350  1'023.4350\n",
       "                                                                          \n",
       "       range        sd     vcoef       mad       IQR      skew        kurt\n",
       "  1'105.6500  210.2795    0.3095  168.1268  255.1500    1.2811      1.9981\n",
       "                                                                          \n",
       "lowest : 368.55, 396.9, 425.25, 453.6 (4), 481.95 (2)\n",
       "highest: 992.25, 1'020.6000 (2), 1'077.3000, 1'190.7000, 1'474.2000\n",
       "\n",
       "heap(?): remarkable frequency (11.7%) for the mode(s) (= 567)\n",
       "\n",
       "' 95%-CI (classic)\n"
      ]
     },
     "metadata": {},
     "output_type": "display_data"
    },
    {
     "data": {
      "image/png": "[encoded data removed]",
      "text/plain": [
       "Plot with title \"CRD$value (numeric)\""
      ]
     },
     "metadata": {},
     "output_type": "display_data"
    }
   ],
   "source": [
    "Desc(CRD$value) "
   ]
  },
  {
   "cell_type": "markdown",
   "metadata": {
    "slideshow": {
     "slide_type": "slide"
    }
   },
   "source": [
    " ### p-value for shapiro-Wilk test/test of normality if it is below 0.05, \n",
    "## the data significantly deviate from a normal distribution\n",
    "\n"
   ]
  },
  {
   "cell_type": "code",
   "execution_count": 18,
   "metadata": {
    "ExecuteTime": {
     "end_time": "2021-06-07T10:46:09.217551Z",
     "start_time": "2021-06-07T10:46:09.150Z"
    },
    "slideshow": {
     "slide_type": "slide"
    }
   },
   "outputs": [
    {
     "data": {
      "text/plain": [
       "\n",
       "\tShapiro-Wilk normality test\n",
       "\n",
       "data:  CRD$value\n",
       "W = 0.90274, p-value = 0.0001658\n"
      ]
     },
     "metadata": {},
     "output_type": "display_data"
    }
   ],
   "source": [
    "shapiro.test(CRD$value) "
   ]
  },
  {
   "cell_type": "markdown",
   "metadata": {
    "slideshow": {
     "slide_type": "slide"
    }
   },
   "source": [
    "#### The Kolmogorov-Smirnov test and the Shapiro-Wilk's W test are more sensitive \n",
    "#### whether the underlying distribution is normal."
   ]
  },
  {
   "cell_type": "markdown",
   "metadata": {
    "slideshow": {
     "slide_type": "slide"
    }
   },
   "source": [
    "### Visualization for testing normality using histogram and density plots however, \n",
    "#### shapiro.wilk test is more sensitive for testing normality \n"
   ]
  },
  {
   "cell_type": "code",
   "execution_count": null,
   "metadata": {
    "ExecuteTime": {
     "start_time": "2021-06-07T10:31:10.283Z"
    },
    "slideshow": {
     "slide_type": "subslide"
    }
   },
   "outputs": [],
   "source": [
    "#LeveneTest(CRD$value~trt, data=CRD,center=mean)"
   ]
  },
  {
   "cell_type": "markdown",
   "metadata": {
    "slideshow": {
     "slide_type": "slide"
    }
   },
   "source": [
    "#### Levene's test is not appropriate with quantitative explanatory variables."
   ]
  },
  {
   "cell_type": "code",
   "execution_count": 19,
   "metadata": {
    "ExecuteTime": {
     "end_time": "2021-06-07T10:46:53.512859Z",
     "start_time": "2021-06-07T10:46:53.455Z"
    },
    "slideshow": {
     "slide_type": "slide"
    }
   },
   "outputs": [
    {
     "data": {
      "text/plain": [
       "\n",
       "\tBartlett test of homogeneity of variances\n",
       "\n",
       "data:  value by trt\n",
       "Bartlett's K-squared = 6.8697, df = 2, p-value = 0.03223\n"
      ]
     },
     "metadata": {},
     "output_type": "display_data"
    }
   ],
   "source": [
    "bartlett.test(value~trt)"
   ]
  },
  {
   "cell_type": "code",
   "execution_count": 20,
   "metadata": {
    "ExecuteTime": {
     "end_time": "2021-06-07T10:47:10.525547Z",
     "start_time": "2021-06-07T10:47:10.416Z"
    },
    "slideshow": {
     "slide_type": "slide"
    }
   },
   "outputs": [
    {
     "data": {
      "image/png": "[encoded data removed]",
      "text/plain": [
       "Plot with title \"Histogram of feedyields\""
      ]
     },
     "metadata": {},
     "output_type": "display_data"
    }
   ],
   "source": [
    "hist(CRD$value,probability=T, main=\"Histogram of feedyields\",xlab=\" This is non normally distributed data/this more or less skewed \n",
    "so parametric tests can not be conducted\")\n",
    "lines(density(value),col=2)"
   ]
  },
  {
   "cell_type": "markdown",
   "metadata": {
    "slideshow": {
     "slide_type": "slide"
    }
   },
   "source": [
    "#### Add a line where x = y to help assess how closely the scatter fits the line."
   ]
  },
  {
   "cell_type": "code",
   "execution_count": 21,
   "metadata": {
    "ExecuteTime": {
     "end_time": "2021-06-07T10:47:37.886538Z",
     "start_time": "2021-06-07T10:47:37.773Z"
    },
    "slideshow": {
     "slide_type": "slide"
    }
   },
   "outputs": [
    {
     "data": {
      "image/png": "[encoded data removed]",
      "text/plain": [
       "Plot with title \"QQ plot of CRD\""
      ]
     },
     "metadata": {},
     "output_type": "display_data"
    }
   ],
   "source": [
    "qqnorm(CRD$value,main=\"QQ plot of CRD\",pch=19, col=2)\n",
    "\n",
    "qqline(CRD$value, col=1)"
   ]
  },
  {
   "cell_type": "markdown",
   "metadata": {},
   "source": [
    "#### To normalize data, we use different transformations such as arcsine,square roor, log, Box-cox, \n",
    "#### ANOVA of variance \n",
    "\n",
    "#### For right-skewed data-tail is on the right, positive skew-, common transformations include square root, cube root, and log.\n",
    "\n",
    "#### For left-skewed data-tail is on the left, negative skew-, common transformations include square root (constant - x), cube root (constant - x), and log (constant - x).\n",
    "#### Another approach is to use a general power transformation, such as Tukey's Ladder of Powers or a Box-Cox transformation\n",
    "#### Here we will use some general transormations and ultimatey use box-cox transformation \n",
    "\n"
   ]
  },
  {
   "cell_type": "markdown",
   "metadata": {},
   "source": [
    "### perform transformations \n",
    "\n",
    " #### 1) square root transformations"
   ]
  },
  {
   "cell_type": "code",
   "execution_count": 22,
   "metadata": {
    "ExecuteTime": {
     "end_time": "2021-06-07T10:48:00.948483Z",
     "start_time": "2021-06-07T10:48:00.894Z"
    }
   },
   "outputs": [
    {
     "data": {
      "text/html": [
       "<style>\n",
       ".list-inline {list-style: none; margin:0; padding: 0}\n",
       ".list-inline>li {display: inline-block}\n",
       ".list-inline>li:not(:last-child)::after {content: \"\\00b7\"; padding: 0 .5ex}\n",
       "</style>\n",
       "<ol class=list-inline><li>29.1633331428354</li><li>21.2978872191586</li><li>29.6454043656011</li><li>24.9739864659209</li><li>22.58982071642</li><li>27.6667670680909</li><li>26.084478143141</li><li>24.3997950811067</li><li>23.2088345248097</li><li>29.1633331428354</li><li>28.1744565164974</li><li>31.9468308287379</li><li>26.6223590239483</li><li>25.5352697264</li><li>24.9739864659209</li><li>19.9223492590608</li><li>26.084478143141</li><li>25.5352697264</li><li>23.2088345248097</li><li>26.084478143141</li><li>22.58982071642</li><li>31.0467389591886</li><li>25.5352697264</li><li>31.9468308287379</li><li>29.6454043656011</li><li>23.8117617995813</li><li>23.2088345248097</li><li>23.8117617995813</li><li>22.58982071642</li><li>20.6215906273013</li><li>23.8117617995813</li><li>24.9739864659209</li><li>23.2088345248097</li><li>21.2978872191586</li><li>21.9533596517708</li><li>19.1976561069314</li><li>23.8117617995813</li><li>24.3997950811067</li><li>23.8117617995813</li><li>24.3997950811067</li><li>31.5</li><li>29.1633331428354</li><li>38.3953122138628</li><li>22.58982071642</li><li>28.1744565164974</li><li>21.2978872191586</li><li>30.5867618423396</li><li>34.5065211228255</li><li>21.9533596517708</li><li>24.9739864659209</li><li>32.8222485518588</li><li>29.1633331428354</li><li>26.084478143141</li><li>27.149585632197</li><li>27.149585632197</li><li>25.5352697264</li><li>23.8117617995813</li><li>21.2978872191586</li><li>25.5352697264</li><li>23.8117617995813</li></ol>\n"
      ],
      "text/latex": [
       "\\begin{enumerate*}\n",
       "\\item 29.1633331428354\n",
       "\\item 21.2978872191586\n",
       "\\item 29.6454043656011\n",
       "\\item 24.9739864659209\n",
       "\\item 22.58982071642\n",
       "\\item 27.6667670680909\n",
       "\\item 26.084478143141\n",
       "\\item 24.3997950811067\n",
       "\\item 23.2088345248097\n",
       "\\item 29.1633331428354\n",
       "\\item 28.1744565164974\n",
       "\\item 31.9468308287379\n",
       "\\item 26.6223590239483\n",
       "\\item 25.5352697264\n",
       "\\item 24.9739864659209\n",
       "\\item 19.9223492590608\n",
       "\\item 26.084478143141\n",
       "\\item 25.5352697264\n",
       "\\item 23.2088345248097\n",
       "\\item 26.084478143141\n",
       "\\item 22.58982071642\n",
       "\\item 31.0467389591886\n",
       "\\item 25.5352697264\n",
       "\\item 31.9468308287379\n",
       "\\item 29.6454043656011\n",
       "\\item 23.8117617995813\n",
       "\\item 23.2088345248097\n",
       "\\item 23.8117617995813\n",
       "\\item 22.58982071642\n",
       "\\item 20.6215906273013\n",
       "\\item 23.8117617995813\n",
       "\\item 24.9739864659209\n",
       "\\item 23.2088345248097\n",
       "\\item 21.2978872191586\n",
       "\\item 21.9533596517708\n",
       "\\item 19.1976561069314\n",
       "\\item 23.8117617995813\n",
       "\\item 24.3997950811067\n",
       "\\item 23.8117617995813\n",
       "\\item 24.3997950811067\n",
       "\\item 31.5\n",
       "\\item 29.1633331428354\n",
       "\\item 38.3953122138628\n",
       "\\item 22.58982071642\n",
       "\\item 28.1744565164974\n",
       "\\item 21.2978872191586\n",
       "\\item 30.5867618423396\n",
       "\\item 34.5065211228255\n",
       "\\item 21.9533596517708\n",
       "\\item 24.9739864659209\n",
       "\\item 32.8222485518588\n",
       "\\item 29.1633331428354\n",
       "\\item 26.084478143141\n",
       "\\item 27.149585632197\n",
       "\\item 27.149585632197\n",
       "\\item 25.5352697264\n",
       "\\item 23.8117617995813\n",
       "\\item 21.2978872191586\n",
       "\\item 25.5352697264\n",
       "\\item 23.8117617995813\n",
       "\\end{enumerate*}\n"
      ],
      "text/markdown": [
       "1. 29.1633331428354\n",
       "2. 21.2978872191586\n",
       "3. 29.6454043656011\n",
       "4. 24.9739864659209\n",
       "5. 22.58982071642\n",
       "6. 27.6667670680909\n",
       "7. 26.084478143141\n",
       "8. 24.3997950811067\n",
       "9. 23.2088345248097\n",
       "10. 29.1633331428354\n",
       "11. 28.1744565164974\n",
       "12. 31.9468308287379\n",
       "13. 26.6223590239483\n",
       "14. 25.5352697264\n",
       "15. 24.9739864659209\n",
       "16. 19.9223492590608\n",
       "17. 26.084478143141\n",
       "18. 25.5352697264\n",
       "19. 23.2088345248097\n",
       "20. 26.084478143141\n",
       "21. 22.58982071642\n",
       "22. 31.0467389591886\n",
       "23. 25.5352697264\n",
       "24. 31.9468308287379\n",
       "25. 29.6454043656011\n",
       "26. 23.8117617995813\n",
       "27. 23.2088345248097\n",
       "28. 23.8117617995813\n",
       "29. 22.58982071642\n",
       "30. 20.6215906273013\n",
       "31. 23.8117617995813\n",
       "32. 24.9739864659209\n",
       "33. 23.2088345248097\n",
       "34. 21.2978872191586\n",
       "35. 21.9533596517708\n",
       "36. 19.1976561069314\n",
       "37. 23.8117617995813\n",
       "38. 24.3997950811067\n",
       "39. 23.8117617995813\n",
       "40. 24.3997950811067\n",
       "41. 31.5\n",
       "42. 29.1633331428354\n",
       "43. 38.3953122138628\n",
       "44. 22.58982071642\n",
       "45. 28.1744565164974\n",
       "46. 21.2978872191586\n",
       "47. 30.5867618423396\n",
       "48. 34.5065211228255\n",
       "49. 21.9533596517708\n",
       "50. 24.9739864659209\n",
       "51. 32.8222485518588\n",
       "52. 29.1633331428354\n",
       "53. 26.084478143141\n",
       "54. 27.149585632197\n",
       "55. 27.149585632197\n",
       "56. 25.5352697264\n",
       "57. 23.8117617995813\n",
       "58. 21.2978872191586\n",
       "59. 25.5352697264\n",
       "60. 23.8117617995813\n",
       "\n",
       "\n"
      ],
      "text/plain": [
       " [1] 29.16333 21.29789 29.64540 24.97399 22.58982 27.66677 26.08448 24.39980\n",
       " [9] 23.20883 29.16333 28.17446 31.94683 26.62236 25.53527 24.97399 19.92235\n",
       "[17] 26.08448 25.53527 23.20883 26.08448 22.58982 31.04674 25.53527 31.94683\n",
       "[25] 29.64540 23.81176 23.20883 23.81176 22.58982 20.62159 23.81176 24.97399\n",
       "[33] 23.20883 21.29789 21.95336 19.19766 23.81176 24.39980 23.81176 24.39980\n",
       "[41] 31.50000 29.16333 38.39531 22.58982 28.17446 21.29789 30.58676 34.50652\n",
       "[49] 21.95336 24.97399 32.82225 29.16333 26.08448 27.14959 27.14959 25.53527\n",
       "[57] 23.81176 21.29789 25.53527 23.81176"
      ]
     },
     "metadata": {},
     "output_type": "display_data"
    }
   ],
   "source": [
    "sqrtyld <-sqrt(CRD$value) \n",
    "sqrtyld"
   ]
  },
  {
   "cell_type": "code",
   "execution_count": 23,
   "metadata": {
    "ExecuteTime": {
     "end_time": "2021-06-07T10:48:05.922331Z",
     "start_time": "2021-06-07T10:48:05.842Z"
    }
   },
   "outputs": [
    {
     "data": {
      "image/png": "[encoded data removed]",
      "text/plain": [
       "plot without title"
      ]
     },
     "metadata": {},
     "output_type": "display_data"
    }
   ],
   "source": [
    "boxplot(sqrtyld)"
   ]
  },
  {
   "cell_type": "code",
   "execution_count": 24,
   "metadata": {
    "ExecuteTime": {
     "end_time": "2021-06-07T10:48:15.189991Z",
     "start_time": "2021-06-07T10:48:15.066Z"
    }
   },
   "outputs": [
    {
     "data": {
      "image/png": "[encoded data removed]",
      "text/plain": [
       "Plot with title \"Histogram of sqrtfeedyields\""
      ]
     },
     "metadata": {},
     "output_type": "display_data"
    }
   ],
   "source": [
    "hist(sqrtyld,probability=T, main=\"Histogram of sqrtfeedyields\",xlab=\" \")\n",
    "lines(density(sqrtyld),col=2) "
   ]
  },
  {
   "cell_type": "markdown",
   "metadata": {},
   "source": [
    "#### 2) Cube root transformations"
   ]
  },
  {
   "cell_type": "code",
   "execution_count": 25,
   "metadata": {
    "ExecuteTime": {
     "end_time": "2021-06-07T10:48:26.356549Z",
     "start_time": "2021-06-07T10:48:26.235Z"
    }
   },
   "outputs": [
    {
     "data": {
      "text/html": [
       "<style>\n",
       ".list-inline {list-style: none; margin:0; padding: 0}\n",
       ".list-inline>li {display: inline-block}\n",
       ".list-inline>li:not(:last-child)::after {content: \"\\00b7\"; padding: 0 .5ex}\n",
       "</style>\n",
       "<ol class=list-inline><li>9.47453939648457</li><li>7.68347498992496</li><li>9.57866355137784</li><li>8.5439477019902</li><li>7.99113601568341</li><li>9.14756721133368</li><li>8.79538325326942</li><li>8.41248144480657</li><li>8.1364611428392</li><li>9.47453939648457</li><li>9.25913390447575</li><li>10.0682004787326</li><li>8.91588292914469</li><li>8.67148811276157</li><li>8.5439477019902</li><li>7.34897945013962</li><li>8.79538325326942</li><li>8.67148811276157</li><li>8.1364611428392</li><li>8.79538325326942</li><li>7.99113601568341</li><li>9.87818889693852</li><li>8.67148811276157</li><li>10.0682004787326</li><li>9.57866355137784</li><li>8.27677252914336</li><li>8.1364611428392</li><li>8.27677252914336</li><li>7.99113601568341</li><li>7.51994690244688</li><li>8.27677252914336</li><li>8.5439477019902</li><li>8.1364611428392</li><li>7.68347498992496</li><li>7.84032372327039</li><li>7.16966403075531</li><li>8.27677252914336</li><li>8.41248144480657</li><li>8.27677252914336</li><li>8.41248144480657</li><li>9.97409964172646</li><li>9.47453939648457</li><li>11.3811322246795</li><li>7.99113601568341</li><li>9.25913390447575</li><li>7.68347498992496</li><li>9.78037862209899</li><li>10.5990624541618</li><li>7.84032372327039</li><li>8.5439477019902</li><li>10.2512986655148</li><li>9.47453939648457</li><li>8.79538325326942</li><li>9.03321063302273</li><li>9.03321063302273</li><li>8.67148811276157</li><li>8.27677252914336</li><li>7.68347498992496</li><li>8.67148811276157</li><li>8.27677252914336</li></ol>\n"
      ],
      "text/latex": [
       "\\begin{enumerate*}\n",
       "\\item 9.47453939648457\n",
       "\\item 7.68347498992496\n",
       "\\item 9.57866355137784\n",
       "\\item 8.5439477019902\n",
       "\\item 7.99113601568341\n",
       "\\item 9.14756721133368\n",
       "\\item 8.79538325326942\n",
       "\\item 8.41248144480657\n",
       "\\item 8.1364611428392\n",
       "\\item 9.47453939648457\n",
       "\\item 9.25913390447575\n",
       "\\item 10.0682004787326\n",
       "\\item 8.91588292914469\n",
       "\\item 8.67148811276157\n",
       "\\item 8.5439477019902\n",
       "\\item 7.34897945013962\n",
       "\\item 8.79538325326942\n",
       "\\item 8.67148811276157\n",
       "\\item 8.1364611428392\n",
       "\\item 8.79538325326942\n",
       "\\item 7.99113601568341\n",
       "\\item 9.87818889693852\n",
       "\\item 8.67148811276157\n",
       "\\item 10.0682004787326\n",
       "\\item 9.57866355137784\n",
       "\\item 8.27677252914336\n",
       "\\item 8.1364611428392\n",
       "\\item 8.27677252914336\n",
       "\\item 7.99113601568341\n",
       "\\item 7.51994690244688\n",
       "\\item 8.27677252914336\n",
       "\\item 8.5439477019902\n",
       "\\item 8.1364611428392\n",
       "\\item 7.68347498992496\n",
       "\\item 7.84032372327039\n",
       "\\item 7.16966403075531\n",
       "\\item 8.27677252914336\n",
       "\\item 8.41248144480657\n",
       "\\item 8.27677252914336\n",
       "\\item 8.41248144480657\n",
       "\\item 9.97409964172646\n",
       "\\item 9.47453939648457\n",
       "\\item 11.3811322246795\n",
       "\\item 7.99113601568341\n",
       "\\item 9.25913390447575\n",
       "\\item 7.68347498992496\n",
       "\\item 9.78037862209899\n",
       "\\item 10.5990624541618\n",
       "\\item 7.84032372327039\n",
       "\\item 8.5439477019902\n",
       "\\item 10.2512986655148\n",
       "\\item 9.47453939648457\n",
       "\\item 8.79538325326942\n",
       "\\item 9.03321063302273\n",
       "\\item 9.03321063302273\n",
       "\\item 8.67148811276157\n",
       "\\item 8.27677252914336\n",
       "\\item 7.68347498992496\n",
       "\\item 8.67148811276157\n",
       "\\item 8.27677252914336\n",
       "\\end{enumerate*}\n"
      ],
      "text/markdown": [
       "1. 9.47453939648457\n",
       "2. 7.68347498992496\n",
       "3. 9.57866355137784\n",
       "4. 8.5439477019902\n",
       "5. 7.99113601568341\n",
       "6. 9.14756721133368\n",
       "7. 8.79538325326942\n",
       "8. 8.41248144480657\n",
       "9. 8.1364611428392\n",
       "10. 9.47453939648457\n",
       "11. 9.25913390447575\n",
       "12. 10.0682004787326\n",
       "13. 8.91588292914469\n",
       "14. 8.67148811276157\n",
       "15. 8.5439477019902\n",
       "16. 7.34897945013962\n",
       "17. 8.79538325326942\n",
       "18. 8.67148811276157\n",
       "19. 8.1364611428392\n",
       "20. 8.79538325326942\n",
       "21. 7.99113601568341\n",
       "22. 9.87818889693852\n",
       "23. 8.67148811276157\n",
       "24. 10.0682004787326\n",
       "25. 9.57866355137784\n",
       "26. 8.27677252914336\n",
       "27. 8.1364611428392\n",
       "28. 8.27677252914336\n",
       "29. 7.99113601568341\n",
       "30. 7.51994690244688\n",
       "31. 8.27677252914336\n",
       "32. 8.5439477019902\n",
       "33. 8.1364611428392\n",
       "34. 7.68347498992496\n",
       "35. 7.84032372327039\n",
       "36. 7.16966403075531\n",
       "37. 8.27677252914336\n",
       "38. 8.41248144480657\n",
       "39. 8.27677252914336\n",
       "40. 8.41248144480657\n",
       "41. 9.97409964172646\n",
       "42. 9.47453939648457\n",
       "43. 11.3811322246795\n",
       "44. 7.99113601568341\n",
       "45. 9.25913390447575\n",
       "46. 7.68347498992496\n",
       "47. 9.78037862209899\n",
       "48. 10.5990624541618\n",
       "49. 7.84032372327039\n",
       "50. 8.5439477019902\n",
       "51. 10.2512986655148\n",
       "52. 9.47453939648457\n",
       "53. 8.79538325326942\n",
       "54. 9.03321063302273\n",
       "55. 9.03321063302273\n",
       "56. 8.67148811276157\n",
       "57. 8.27677252914336\n",
       "58. 7.68347498992496\n",
       "59. 8.67148811276157\n",
       "60. 8.27677252914336\n",
       "\n",
       "\n"
      ],
      "text/plain": [
       " [1]  9.474539  7.683475  9.578664  8.543948  7.991136  9.147567  8.795383\n",
       " [8]  8.412481  8.136461  9.474539  9.259134 10.068200  8.915883  8.671488\n",
       "[15]  8.543948  7.348979  8.795383  8.671488  8.136461  8.795383  7.991136\n",
       "[22]  9.878189  8.671488 10.068200  9.578664  8.276773  8.136461  8.276773\n",
       "[29]  7.991136  7.519947  8.276773  8.543948  8.136461  7.683475  7.840324\n",
       "[36]  7.169664  8.276773  8.412481  8.276773  8.412481  9.974100  9.474539\n",
       "[43] 11.381132  7.991136  9.259134  7.683475  9.780379 10.599062  7.840324\n",
       "[50]  8.543948 10.251299  9.474539  8.795383  9.033211  9.033211  8.671488\n",
       "[57]  8.276773  7.683475  8.671488  8.276773"
      ]
     },
     "metadata": {},
     "output_type": "display_data"
    },
    {
     "data": {
      "image/png": "[encoded data removed]",
      "text/plain": [
       "plot without title"
      ]
     },
     "metadata": {},
     "output_type": "display_data"
    }
   ],
   "source": [
    "value_cub = sign(CRD$value) * abs(CRD$value)^(1/3) \n",
    "value_cub\n",
    "boxplot(value_cub)"
   ]
  },
  {
   "cell_type": "code",
   "execution_count": 26,
   "metadata": {
    "ExecuteTime": {
     "end_time": "2021-06-07T10:48:32.814785Z",
     "start_time": "2021-06-07T10:48:32.699Z"
    }
   },
   "outputs": [
    {
     "data": {
      "image/png": "[encoded data removed]",
      "text/plain": [
       "Plot with title \"Histogram of cuberootfeedyields\""
      ]
     },
     "metadata": {},
     "output_type": "display_data"
    }
   ],
   "source": [
    "hist(value_cub,probability=T, main=\"Histogram of cuberootfeedyields\",xlab=\"hist \")\n",
    "lines(density(value_cub),col=2)"
   ]
  },
  {
   "cell_type": "markdown",
   "metadata": {},
   "source": [
    "#### 2) Log transformations"
   ]
  },
  {
   "cell_type": "code",
   "execution_count": 27,
   "metadata": {
    "ExecuteTime": {
     "end_time": "2021-06-07T10:48:39.331860Z",
     "start_time": "2021-06-07T10:48:39.231Z"
    }
   },
   "outputs": [
    {
     "data": {
      "text/html": [
       "<style>\n",
       ".list-inline {list-style: none; margin:0; padding: 0}\n",
       ".list-inline>li {display: inline-block}\n",
       ".list-inline>li:not(:last-child)::after {content: \"\\00b7\"; padding: 0 .5ex}\n",
       "</style>\n",
       "<ol class=list-inline><li>6.74582441183592</li><li>6.11721575241354</li><li>6.77861423465891</li><li>6.43566948353208</li><li>6.23499878806993</li><li>6.64046389617809</li><li>6.52268086052171</li><li>6.38914946789718</li><li>6.2890660093402</li><li>6.74582441183592</li><li>6.67683154034896</li><li>6.92814596862987</li><li>6.56350285504196</li><li>6.48012124610291</li><li>6.43566948353208</li><li>5.98368435978902</li><li>6.52268086052171</li><li>6.48012124610291</li><li>6.2890660093402</li><li>6.52268086052171</li><li>6.23499878806993</li><li>6.87098755478992</li><li>6.48012124610291</li><li>6.92814596862987</li><li>6.77861423465891</li><li>6.34035930372775</li><li>6.2890660093402</li><li>6.34035930372775</li><li>6.23499878806993</li><li>6.05267723127597</li><li>6.34035930372775</li><li>6.43566948353208</li><li>6.2890660093402</li><li>6.11721575241354</li><li>6.17784037422998</li><li>5.9095763876353</li><li>6.34035930372775</li><li>6.38914946789718</li><li>6.34035930372775</li><li>6.38914946789718</li><li>6.89997509166317</li><li>6.74582441183592</li><li>7.29587074875519</li><li>6.23499878806993</li><li>6.67683154034896</li><li>6.11721575241354</li><li>6.84113459164024</li><li>7.08229664845713</li><li>6.17784037422998</li><li>6.43566948353208</li><li>6.98221318990015</li><li>6.74582441183592</li><li>6.52268086052171</li><li>6.60272356819524</li><li>6.60272356819524</li><li>6.48012124610291</li><li>6.34035930372775</li><li>6.11721575241354</li><li>6.48012124610291</li><li>6.34035930372775</li></ol>\n"
      ],
      "text/latex": [
       "\\begin{enumerate*}\n",
       "\\item 6.74582441183592\n",
       "\\item 6.11721575241354\n",
       "\\item 6.77861423465891\n",
       "\\item 6.43566948353208\n",
       "\\item 6.23499878806993\n",
       "\\item 6.64046389617809\n",
       "\\item 6.52268086052171\n",
       "\\item 6.38914946789718\n",
       "\\item 6.2890660093402\n",
       "\\item 6.74582441183592\n",
       "\\item 6.67683154034896\n",
       "\\item 6.92814596862987\n",
       "\\item 6.56350285504196\n",
       "\\item 6.48012124610291\n",
       "\\item 6.43566948353208\n",
       "\\item 5.98368435978902\n",
       "\\item 6.52268086052171\n",
       "\\item 6.48012124610291\n",
       "\\item 6.2890660093402\n",
       "\\item 6.52268086052171\n",
       "\\item 6.23499878806993\n",
       "\\item 6.87098755478992\n",
       "\\item 6.48012124610291\n",
       "\\item 6.92814596862987\n",
       "\\item 6.77861423465891\n",
       "\\item 6.34035930372775\n",
       "\\item 6.2890660093402\n",
       "\\item 6.34035930372775\n",
       "\\item 6.23499878806993\n",
       "\\item 6.05267723127597\n",
       "\\item 6.34035930372775\n",
       "\\item 6.43566948353208\n",
       "\\item 6.2890660093402\n",
       "\\item 6.11721575241354\n",
       "\\item 6.17784037422998\n",
       "\\item 5.9095763876353\n",
       "\\item 6.34035930372775\n",
       "\\item 6.38914946789718\n",
       "\\item 6.34035930372775\n",
       "\\item 6.38914946789718\n",
       "\\item 6.89997509166317\n",
       "\\item 6.74582441183592\n",
       "\\item 7.29587074875519\n",
       "\\item 6.23499878806993\n",
       "\\item 6.67683154034896\n",
       "\\item 6.11721575241354\n",
       "\\item 6.84113459164024\n",
       "\\item 7.08229664845713\n",
       "\\item 6.17784037422998\n",
       "\\item 6.43566948353208\n",
       "\\item 6.98221318990015\n",
       "\\item 6.74582441183592\n",
       "\\item 6.52268086052171\n",
       "\\item 6.60272356819524\n",
       "\\item 6.60272356819524\n",
       "\\item 6.48012124610291\n",
       "\\item 6.34035930372775\n",
       "\\item 6.11721575241354\n",
       "\\item 6.48012124610291\n",
       "\\item 6.34035930372775\n",
       "\\end{enumerate*}\n"
      ],
      "text/markdown": [
       "1. 6.74582441183592\n",
       "2. 6.11721575241354\n",
       "3. 6.77861423465891\n",
       "4. 6.43566948353208\n",
       "5. 6.23499878806993\n",
       "6. 6.64046389617809\n",
       "7. 6.52268086052171\n",
       "8. 6.38914946789718\n",
       "9. 6.2890660093402\n",
       "10. 6.74582441183592\n",
       "11. 6.67683154034896\n",
       "12. 6.92814596862987\n",
       "13. 6.56350285504196\n",
       "14. 6.48012124610291\n",
       "15. 6.43566948353208\n",
       "16. 5.98368435978902\n",
       "17. 6.52268086052171\n",
       "18. 6.48012124610291\n",
       "19. 6.2890660093402\n",
       "20. 6.52268086052171\n",
       "21. 6.23499878806993\n",
       "22. 6.87098755478992\n",
       "23. 6.48012124610291\n",
       "24. 6.92814596862987\n",
       "25. 6.77861423465891\n",
       "26. 6.34035930372775\n",
       "27. 6.2890660093402\n",
       "28. 6.34035930372775\n",
       "29. 6.23499878806993\n",
       "30. 6.05267723127597\n",
       "31. 6.34035930372775\n",
       "32. 6.43566948353208\n",
       "33. 6.2890660093402\n",
       "34. 6.11721575241354\n",
       "35. 6.17784037422998\n",
       "36. 5.9095763876353\n",
       "37. 6.34035930372775\n",
       "38. 6.38914946789718\n",
       "39. 6.34035930372775\n",
       "40. 6.38914946789718\n",
       "41. 6.89997509166317\n",
       "42. 6.74582441183592\n",
       "43. 7.29587074875519\n",
       "44. 6.23499878806993\n",
       "45. 6.67683154034896\n",
       "46. 6.11721575241354\n",
       "47. 6.84113459164024\n",
       "48. 7.08229664845713\n",
       "49. 6.17784037422998\n",
       "50. 6.43566948353208\n",
       "51. 6.98221318990015\n",
       "52. 6.74582441183592\n",
       "53. 6.52268086052171\n",
       "54. 6.60272356819524\n",
       "55. 6.60272356819524\n",
       "56. 6.48012124610291\n",
       "57. 6.34035930372775\n",
       "58. 6.11721575241354\n",
       "59. 6.48012124610291\n",
       "60. 6.34035930372775\n",
       "\n",
       "\n"
      ],
      "text/plain": [
       " [1] 6.745824 6.117216 6.778614 6.435669 6.234999 6.640464 6.522681 6.389149\n",
       " [9] 6.289066 6.745824 6.676832 6.928146 6.563503 6.480121 6.435669 5.983684\n",
       "[17] 6.522681 6.480121 6.289066 6.522681 6.234999 6.870988 6.480121 6.928146\n",
       "[25] 6.778614 6.340359 6.289066 6.340359 6.234999 6.052677 6.340359 6.435669\n",
       "[33] 6.289066 6.117216 6.177840 5.909576 6.340359 6.389149 6.340359 6.389149\n",
       "[41] 6.899975 6.745824 7.295871 6.234999 6.676832 6.117216 6.841135 7.082297\n",
       "[49] 6.177840 6.435669 6.982213 6.745824 6.522681 6.602724 6.602724 6.480121\n",
       "[57] 6.340359 6.117216 6.480121 6.340359"
      ]
     },
     "metadata": {},
     "output_type": "display_data"
    },
    {
     "data": {
      "image/png": "[encoded data removed]",
      "text/plain": [
       "plot without title"
      ]
     },
     "metadata": {},
     "output_type": "display_data"
    }
   ],
   "source": [
    "value_log = log(CRD$value)\n",
    "value_log\n",
    "boxplot(value_log)"
   ]
  },
  {
   "cell_type": "code",
   "execution_count": 29,
   "metadata": {
    "ExecuteTime": {
     "end_time": "2021-06-07T10:49:00.511637Z",
     "start_time": "2021-06-07T10:49:00.407Z"
    }
   },
   "outputs": [
    {
     "data": {
      "image/png": "[encoded data removed]",
      "text/plain": [
       "Plot with title \"Histogram of logfeedyields\""
      ]
     },
     "metadata": {},
     "output_type": "display_data"
    }
   ],
   "source": [
    "hist(value_log,probability=T, main=\"Histogram of logfeedyields\",xlab=\" \")\n",
    "lines(density(value_log),col=2)"
   ]
  },
  {
   "cell_type": "markdown",
   "metadata": {},
   "source": [
    "## box cox \n",
    "\n",
    "\n"
   ]
  },
  {
   "cell_type": "code",
   "execution_count": 30,
   "metadata": {
    "ExecuteTime": {
     "end_time": "2021-06-07T10:49:38.426693Z",
     "start_time": "2021-06-07T10:49:38.297Z"
    }
   },
   "outputs": [
    {
     "data": {
      "text/html": [
       "<dl>\n",
       "\t<dt>$x</dt>\n",
       "\t\t<dd><style>\n",
       ".list-inline {list-style: none; margin:0; padding: 0}\n",
       ".list-inline>li {display: inline-block}\n",
       ".list-inline>li:not(:last-child)::after {content: \"\\00b7\"; padding: 0 .5ex}\n",
       "</style>\n",
       "<ol class=list-inline><li>-2</li><li>-1.95959595959596</li><li>-1.91919191919192</li><li>-1.87878787878788</li><li>-1.83838383838384</li><li>-1.7979797979798</li><li>-1.75757575757576</li><li>-1.71717171717172</li><li>-1.67676767676768</li><li>-1.63636363636364</li><li>-1.5959595959596</li><li>-1.55555555555556</li><li>-1.51515151515152</li><li>-1.47474747474747</li><li>-1.43434343434343</li><li>-1.39393939393939</li><li>-1.35353535353535</li><li>-1.31313131313131</li><li>-1.27272727272727</li><li>-1.23232323232323</li><li>-1.19191919191919</li><li>-1.15151515151515</li><li>-1.11111111111111</li><li>-1.07070707070707</li><li>-1.03030303030303</li><li>-0.98989898989899</li><li>-0.949494949494949</li><li>-0.909090909090909</li><li>-0.868686868686869</li><li>-0.828282828282828</li><li>-0.787878787878788</li><li>-0.747474747474747</li><li>-0.707070707070707</li><li>-0.666666666666667</li><li>-0.626262626262626</li><li>-0.585858585858586</li><li>-0.545454545454545</li><li>-0.505050505050505</li><li>-0.464646464646465</li><li>-0.424242424242424</li><li>-0.383838383838384</li><li>-0.343434343434343</li><li>-0.303030303030303</li><li>-0.262626262626263</li><li>-0.222222222222222</li><li>-0.181818181818182</li><li>-0.141414141414141</li><li>-0.101010101010101</li><li>-0.0606060606060606</li><li>-0.0202020202020201</li><li>0.0202020202020203</li><li>0.060606060606061</li><li>0.101010101010101</li><li>0.141414141414141</li><li>0.181818181818182</li><li>0.222222222222222</li><li>0.262626262626263</li><li>0.303030303030303</li><li>0.343434343434343</li><li>0.383838383838384</li><li>0.424242424242424</li><li>0.464646464646465</li><li>0.505050505050505</li><li>0.545454545454546</li><li>0.585858585858586</li><li>0.626262626262626</li><li>0.666666666666667</li><li>0.707070707070707</li><li>0.747474747474748</li><li>0.787878787878788</li><li>0.828282828282829</li><li>0.868686868686869</li><li>0.909090909090909</li><li>0.94949494949495</li><li>0.98989898989899</li><li>1.03030303030303</li><li>1.07070707070707</li><li>1.11111111111111</li><li>1.15151515151515</li><li>1.19191919191919</li><li>1.23232323232323</li><li>1.27272727272727</li><li>1.31313131313131</li><li>1.35353535353535</li><li>1.39393939393939</li><li>1.43434343434343</li><li>1.47474747474747</li><li>1.51515151515152</li><li>1.55555555555556</li><li>1.5959595959596</li><li>1.63636363636364</li><li>1.67676767676768</li><li>1.71717171717172</li><li>1.75757575757576</li><li>1.7979797979798</li><li>1.83838383838384</li><li>1.87878787878788</li><li>1.91919191919192</li><li>1.95959595959596</li><li>2</li></ol>\n",
       "</dd>\n",
       "\t<dt>$y</dt>\n",
       "\t\t<dd><style>\n",
       ".list-inline {list-style: none; margin:0; padding: 0}\n",
       ".list-inline>li {display: inline-block}\n",
       ".list-inline>li:not(:last-child)::after {content: \"\\00b7\"; padding: 0 .5ex}\n",
       "</style>\n",
       "<ol class=list-inline><li>-50.4724459866979</li><li>-50.1702594313092</li><li>-49.876211683266</li><li>-49.5903551043654</li><li>-49.3127420798007</li><li>-49.0434250166794</li><li>-48.7824562773429</li><li>-48.5298880670386</li><li>-48.2857725518416</li><li>-48.0501618088269</li><li>-47.8231078418769</li><li>-47.6046626104281</li><li>-47.3948779483042</li><li>-47.1938056586303</li><li>-47.001497443056</li><li>-46.8180049299983</li><li>-46.6433797011713</li><li>-46.477673222377</li><li>-46.3209369322902</li><li>-46.1732221707963</li><li>-46.0345802152351</li><li>-45.9050622964143</li><li>-45.7847195435026</li><li>-45.6736030623217</li><li>-45.5717638678355</li><li>-45.479252924547</li><li>-45.396121151611</li><li>-45.3224193811269</li><li>-45.2581984246083</li><li>-45.2035090087497</li><li>-45.1584018188748</li><li>-45.1229274928525</li><li>-45.0971365885515</li><li>-45.0810796428195</li><li>-45.0748071019256</li><li>-45.0783693731776</li><li>-45.0918168036613</li><li>-45.1151996513619</li><li>-45.1485681463775</li><li>-45.1919723980634</li><li>-45.2454624696464</li><li>-45.3090883300299</li><li>-45.3828998256659</li><li>-45.4669467570264</li><li>-45.5612787351118</li><li>-45.6659453061268</li><li>-45.7809958528088</li><li>-45.9064795716577</li><li>-46.0424455770185</li><li>-46.1889426726949</li><li>-46.3460195664927</li><li>-46.5137246828384</li><li>-46.6921061627787</li><li>-46.8812120017358</li><li>-47.0810897004171</li><li>-47.2917866192286</li><li>-47.5133496486728</li><li>-47.7458252667706</li><li>-47.9892597039409</li><li>-48.2436984435366</li><li>-48.5091867706745</li><li>-48.7857692341528</li><li>-49.0734898154194</li><li>-49.3723920959257</li><li>-49.6825185923131</li><li>-50.0039115506682</li><li>-50.3366121269954</li><li>-50.6806607400714</li><li>-51.0360971952282</li><li>-51.4029598621742</li><li>-51.781286752123</li><li>-52.1711143468864</li><li>-52.5724782204009</li><li>-52.9854130520095</li><li>-53.4099516837694</li><li>-53.8461264940544</li><li>-54.2939678208639</li><li>-54.753504938719</li><li>-55.2247658791313</li><li>-55.7077764347197</li><li>-56.2025618104407</li><li>-56.7091446154299</li><li>-57.2275462696139</li><li>-57.7577865452232</li><li>-58.2998826117077</li><li>-58.8538509068439</li><li>-59.4197047074975</li><li>-59.9974560152574</li><li>-60.587114757905</li><li>-61.1886879894853</li><li>-61.8021818559706</li><li>-62.4275987366859</li><li>-63.0649396754552</li><li>-63.7142034289206</li><li>-64.3753859725516</li><li>-65.0484819303391</li><li>-65.7334804252144</li><li>-66.4303690125019</li><li>-67.1391360149061</li><li>-67.8597705744195</li></ol>\n",
       "</dd>\n",
       "</dl>\n"
      ],
      "text/latex": [
       "\\begin{description}\n",
       "\\item[\\$x] \\begin{enumerate*}\n",
       "\\item -2\n",
       "\\item -1.95959595959596\n",
       "\\item -1.91919191919192\n",
       "\\item -1.87878787878788\n",
       "\\item -1.83838383838384\n",
       "\\item -1.7979797979798\n",
       "\\item -1.75757575757576\n",
       "\\item -1.71717171717172\n",
       "\\item -1.67676767676768\n",
       "\\item -1.63636363636364\n",
       "\\item -1.5959595959596\n",
       "\\item -1.55555555555556\n",
       "\\item -1.51515151515152\n",
       "\\item -1.47474747474747\n",
       "\\item -1.43434343434343\n",
       "\\item -1.39393939393939\n",
       "\\item -1.35353535353535\n",
       "\\item -1.31313131313131\n",
       "\\item -1.27272727272727\n",
       "\\item -1.23232323232323\n",
       "\\item -1.19191919191919\n",
       "\\item -1.15151515151515\n",
       "\\item -1.11111111111111\n",
       "\\item -1.07070707070707\n",
       "\\item -1.03030303030303\n",
       "\\item -0.98989898989899\n",
       "\\item -0.949494949494949\n",
       "\\item -0.909090909090909\n",
       "\\item -0.868686868686869\n",
       "\\item -0.828282828282828\n",
       "\\item -0.787878787878788\n",
       "\\item -0.747474747474747\n",
       "\\item -0.707070707070707\n",
       "\\item -0.666666666666667\n",
       "\\item -0.626262626262626\n",
       "\\item -0.585858585858586\n",
       "\\item -0.545454545454545\n",
       "\\item -0.505050505050505\n",
       "\\item -0.464646464646465\n",
       "\\item -0.424242424242424\n",
       "\\item -0.383838383838384\n",
       "\\item -0.343434343434343\n",
       "\\item -0.303030303030303\n",
       "\\item -0.262626262626263\n",
       "\\item -0.222222222222222\n",
       "\\item -0.181818181818182\n",
       "\\item -0.141414141414141\n",
       "\\item -0.101010101010101\n",
       "\\item -0.0606060606060606\n",
       "\\item -0.0202020202020201\n",
       "\\item 0.0202020202020203\n",
       "\\item 0.060606060606061\n",
       "\\item 0.101010101010101\n",
       "\\item 0.141414141414141\n",
       "\\item 0.181818181818182\n",
       "\\item 0.222222222222222\n",
       "\\item 0.262626262626263\n",
       "\\item 0.303030303030303\n",
       "\\item 0.343434343434343\n",
       "\\item 0.383838383838384\n",
       "\\item 0.424242424242424\n",
       "\\item 0.464646464646465\n",
       "\\item 0.505050505050505\n",
       "\\item 0.545454545454546\n",
       "\\item 0.585858585858586\n",
       "\\item 0.626262626262626\n",
       "\\item 0.666666666666667\n",
       "\\item 0.707070707070707\n",
       "\\item 0.747474747474748\n",
       "\\item 0.787878787878788\n",
       "\\item 0.828282828282829\n",
       "\\item 0.868686868686869\n",
       "\\item 0.909090909090909\n",
       "\\item 0.94949494949495\n",
       "\\item 0.98989898989899\n",
       "\\item 1.03030303030303\n",
       "\\item 1.07070707070707\n",
       "\\item 1.11111111111111\n",
       "\\item 1.15151515151515\n",
       "\\item 1.19191919191919\n",
       "\\item 1.23232323232323\n",
       "\\item 1.27272727272727\n",
       "\\item 1.31313131313131\n",
       "\\item 1.35353535353535\n",
       "\\item 1.39393939393939\n",
       "\\item 1.43434343434343\n",
       "\\item 1.47474747474747\n",
       "\\item 1.51515151515152\n",
       "\\item 1.55555555555556\n",
       "\\item 1.5959595959596\n",
       "\\item 1.63636363636364\n",
       "\\item 1.67676767676768\n",
       "\\item 1.71717171717172\n",
       "\\item 1.75757575757576\n",
       "\\item 1.7979797979798\n",
       "\\item 1.83838383838384\n",
       "\\item 1.87878787878788\n",
       "\\item 1.91919191919192\n",
       "\\item 1.95959595959596\n",
       "\\item 2\n",
       "\\end{enumerate*}\n",
       "\n",
       "\\item[\\$y] \\begin{enumerate*}\n",
       "\\item -50.4724459866979\n",
       "\\item -50.1702594313092\n",
       "\\item -49.876211683266\n",
       "\\item -49.5903551043654\n",
       "\\item -49.3127420798007\n",
       "\\item -49.0434250166794\n",
       "\\item -48.7824562773429\n",
       "\\item -48.5298880670386\n",
       "\\item -48.2857725518416\n",
       "\\item -48.0501618088269\n",
       "\\item -47.8231078418769\n",
       "\\item -47.6046626104281\n",
       "\\item -47.3948779483042\n",
       "\\item -47.1938056586303\n",
       "\\item -47.001497443056\n",
       "\\item -46.8180049299983\n",
       "\\item -46.6433797011713\n",
       "\\item -46.477673222377\n",
       "\\item -46.3209369322902\n",
       "\\item -46.1732221707963\n",
       "\\item -46.0345802152351\n",
       "\\item -45.9050622964143\n",
       "\\item -45.7847195435026\n",
       "\\item -45.6736030623217\n",
       "\\item -45.5717638678355\n",
       "\\item -45.479252924547\n",
       "\\item -45.396121151611\n",
       "\\item -45.3224193811269\n",
       "\\item -45.2581984246083\n",
       "\\item -45.2035090087497\n",
       "\\item -45.1584018188748\n",
       "\\item -45.1229274928525\n",
       "\\item -45.0971365885515\n",
       "\\item -45.0810796428195\n",
       "\\item -45.0748071019256\n",
       "\\item -45.0783693731776\n",
       "\\item -45.0918168036613\n",
       "\\item -45.1151996513619\n",
       "\\item -45.1485681463775\n",
       "\\item -45.1919723980634\n",
       "\\item -45.2454624696464\n",
       "\\item -45.3090883300299\n",
       "\\item -45.3828998256659\n",
       "\\item -45.4669467570264\n",
       "\\item -45.5612787351118\n",
       "\\item -45.6659453061268\n",
       "\\item -45.7809958528088\n",
       "\\item -45.9064795716577\n",
       "\\item -46.0424455770185\n",
       "\\item -46.1889426726949\n",
       "\\item -46.3460195664927\n",
       "\\item -46.5137246828384\n",
       "\\item -46.6921061627787\n",
       "\\item -46.8812120017358\n",
       "\\item -47.0810897004171\n",
       "\\item -47.2917866192286\n",
       "\\item -47.5133496486728\n",
       "\\item -47.7458252667706\n",
       "\\item -47.9892597039409\n",
       "\\item -48.2436984435366\n",
       "\\item -48.5091867706745\n",
       "\\item -48.7857692341528\n",
       "\\item -49.0734898154194\n",
       "\\item -49.3723920959257\n",
       "\\item -49.6825185923131\n",
       "\\item -50.0039115506682\n",
       "\\item -50.3366121269954\n",
       "\\item -50.6806607400714\n",
       "\\item -51.0360971952282\n",
       "\\item -51.4029598621742\n",
       "\\item -51.781286752123\n",
       "\\item -52.1711143468864\n",
       "\\item -52.5724782204009\n",
       "\\item -52.9854130520095\n",
       "\\item -53.4099516837694\n",
       "\\item -53.8461264940544\n",
       "\\item -54.2939678208639\n",
       "\\item -54.753504938719\n",
       "\\item -55.2247658791313\n",
       "\\item -55.7077764347197\n",
       "\\item -56.2025618104407\n",
       "\\item -56.7091446154299\n",
       "\\item -57.2275462696139\n",
       "\\item -57.7577865452232\n",
       "\\item -58.2998826117077\n",
       "\\item -58.8538509068439\n",
       "\\item -59.4197047074975\n",
       "\\item -59.9974560152574\n",
       "\\item -60.587114757905\n",
       "\\item -61.1886879894853\n",
       "\\item -61.8021818559706\n",
       "\\item -62.4275987366859\n",
       "\\item -63.0649396754552\n",
       "\\item -63.7142034289206\n",
       "\\item -64.3753859725516\n",
       "\\item -65.0484819303391\n",
       "\\item -65.7334804252144\n",
       "\\item -66.4303690125019\n",
       "\\item -67.1391360149061\n",
       "\\item -67.8597705744195\n",
       "\\end{enumerate*}\n",
       "\n",
       "\\end{description}\n"
      ],
      "text/markdown": [
       "$x\n",
       ":   1. -2\n",
       "2. -1.95959595959596\n",
       "3. -1.91919191919192\n",
       "4. -1.87878787878788\n",
       "5. -1.83838383838384\n",
       "6. -1.7979797979798\n",
       "7. -1.75757575757576\n",
       "8. -1.71717171717172\n",
       "9. -1.67676767676768\n",
       "10. -1.63636363636364\n",
       "11. -1.5959595959596\n",
       "12. -1.55555555555556\n",
       "13. -1.51515151515152\n",
       "14. -1.47474747474747\n",
       "15. -1.43434343434343\n",
       "16. -1.39393939393939\n",
       "17. -1.35353535353535\n",
       "18. -1.31313131313131\n",
       "19. -1.27272727272727\n",
       "20. -1.23232323232323\n",
       "21. -1.19191919191919\n",
       "22. -1.15151515151515\n",
       "23. -1.11111111111111\n",
       "24. -1.07070707070707\n",
       "25. -1.03030303030303\n",
       "26. -0.98989898989899\n",
       "27. -0.949494949494949\n",
       "28. -0.909090909090909\n",
       "29. -0.868686868686869\n",
       "30. -0.828282828282828\n",
       "31. -0.787878787878788\n",
       "32. -0.747474747474747\n",
       "33. -0.707070707070707\n",
       "34. -0.666666666666667\n",
       "35. -0.626262626262626\n",
       "36. -0.585858585858586\n",
       "37. -0.545454545454545\n",
       "38. -0.505050505050505\n",
       "39. -0.464646464646465\n",
       "40. -0.424242424242424\n",
       "41. -0.383838383838384\n",
       "42. -0.343434343434343\n",
       "43. -0.303030303030303\n",
       "44. -0.262626262626263\n",
       "45. -0.222222222222222\n",
       "46. -0.181818181818182\n",
       "47. -0.141414141414141\n",
       "48. -0.101010101010101\n",
       "49. -0.0606060606060606\n",
       "50. -0.0202020202020201\n",
       "51. 0.0202020202020203\n",
       "52. 0.060606060606061\n",
       "53. 0.101010101010101\n",
       "54. 0.141414141414141\n",
       "55. 0.181818181818182\n",
       "56. 0.222222222222222\n",
       "57. 0.262626262626263\n",
       "58. 0.303030303030303\n",
       "59. 0.343434343434343\n",
       "60. 0.383838383838384\n",
       "61. 0.424242424242424\n",
       "62. 0.464646464646465\n",
       "63. 0.505050505050505\n",
       "64. 0.545454545454546\n",
       "65. 0.585858585858586\n",
       "66. 0.626262626262626\n",
       "67. 0.666666666666667\n",
       "68. 0.707070707070707\n",
       "69. 0.747474747474748\n",
       "70. 0.787878787878788\n",
       "71. 0.828282828282829\n",
       "72. 0.868686868686869\n",
       "73. 0.909090909090909\n",
       "74. 0.94949494949495\n",
       "75. 0.98989898989899\n",
       "76. 1.03030303030303\n",
       "77. 1.07070707070707\n",
       "78. 1.11111111111111\n",
       "79. 1.15151515151515\n",
       "80. 1.19191919191919\n",
       "81. 1.23232323232323\n",
       "82. 1.27272727272727\n",
       "83. 1.31313131313131\n",
       "84. 1.35353535353535\n",
       "85. 1.39393939393939\n",
       "86. 1.43434343434343\n",
       "87. 1.47474747474747\n",
       "88. 1.51515151515152\n",
       "89. 1.55555555555556\n",
       "90. 1.5959595959596\n",
       "91. 1.63636363636364\n",
       "92. 1.67676767676768\n",
       "93. 1.71717171717172\n",
       "94. 1.75757575757576\n",
       "95. 1.7979797979798\n",
       "96. 1.83838383838384\n",
       "97. 1.87878787878788\n",
       "98. 1.91919191919192\n",
       "99. 1.95959595959596\n",
       "100. 2\n",
       "\n",
       "\n",
       "\n",
       "$y\n",
       ":   1. -50.4724459866979\n",
       "2. -50.1702594313092\n",
       "3. -49.876211683266\n",
       "4. -49.5903551043654\n",
       "5. -49.3127420798007\n",
       "6. -49.0434250166794\n",
       "7. -48.7824562773429\n",
       "8. -48.5298880670386\n",
       "9. -48.2857725518416\n",
       "10. -48.0501618088269\n",
       "11. -47.8231078418769\n",
       "12. -47.6046626104281\n",
       "13. -47.3948779483042\n",
       "14. -47.1938056586303\n",
       "15. -47.001497443056\n",
       "16. -46.8180049299983\n",
       "17. -46.6433797011713\n",
       "18. -46.477673222377\n",
       "19. -46.3209369322902\n",
       "20. -46.1732221707963\n",
       "21. -46.0345802152351\n",
       "22. -45.9050622964143\n",
       "23. -45.7847195435026\n",
       "24. -45.6736030623217\n",
       "25. -45.5717638678355\n",
       "26. -45.479252924547\n",
       "27. -45.396121151611\n",
       "28. -45.3224193811269\n",
       "29. -45.2581984246083\n",
       "30. -45.2035090087497\n",
       "31. -45.1584018188748\n",
       "32. -45.1229274928525\n",
       "33. -45.0971365885515\n",
       "34. -45.0810796428195\n",
       "35. -45.0748071019256\n",
       "36. -45.0783693731776\n",
       "37. -45.0918168036613\n",
       "38. -45.1151996513619\n",
       "39. -45.1485681463775\n",
       "40. -45.1919723980634\n",
       "41. -45.2454624696464\n",
       "42. -45.3090883300299\n",
       "43. -45.3828998256659\n",
       "44. -45.4669467570264\n",
       "45. -45.5612787351118\n",
       "46. -45.6659453061268\n",
       "47. -45.7809958528088\n",
       "48. -45.9064795716577\n",
       "49. -46.0424455770185\n",
       "50. -46.1889426726949\n",
       "51. -46.3460195664927\n",
       "52. -46.5137246828384\n",
       "53. -46.6921061627787\n",
       "54. -46.8812120017358\n",
       "55. -47.0810897004171\n",
       "56. -47.2917866192286\n",
       "57. -47.5133496486728\n",
       "58. -47.7458252667706\n",
       "59. -47.9892597039409\n",
       "60. -48.2436984435366\n",
       "61. -48.5091867706745\n",
       "62. -48.7857692341528\n",
       "63. -49.0734898154194\n",
       "64. -49.3723920959257\n",
       "65. -49.6825185923131\n",
       "66. -50.0039115506682\n",
       "67. -50.3366121269954\n",
       "68. -50.6806607400714\n",
       "69. -51.0360971952282\n",
       "70. -51.4029598621742\n",
       "71. -51.781286752123\n",
       "72. -52.1711143468864\n",
       "73. -52.5724782204009\n",
       "74. -52.9854130520095\n",
       "75. -53.4099516837694\n",
       "76. -53.8461264940544\n",
       "77. -54.2939678208639\n",
       "78. -54.753504938719\n",
       "79. -55.2247658791313\n",
       "80. -55.7077764347197\n",
       "81. -56.2025618104407\n",
       "82. -56.7091446154299\n",
       "83. -57.2275462696139\n",
       "84. -57.7577865452232\n",
       "85. -58.2998826117077\n",
       "86. -58.8538509068439\n",
       "87. -59.4197047074975\n",
       "88. -59.9974560152574\n",
       "89. -60.587114757905\n",
       "90. -61.1886879894853\n",
       "91. -61.8021818559706\n",
       "92. -62.4275987366859\n",
       "93. -63.0649396754552\n",
       "94. -63.7142034289206\n",
       "95. -64.3753859725516\n",
       "96. -65.0484819303391\n",
       "97. -65.7334804252144\n",
       "98. -66.4303690125019\n",
       "99. -67.1391360149061\n",
       "100. -67.8597705744195\n",
       "\n",
       "\n",
       "\n",
       "\n",
       "\n"
      ],
      "text/plain": [
       "$x\n",
       "  [1] -2.00000000 -1.95959596 -1.91919192 -1.87878788 -1.83838384 -1.79797980\n",
       "  [7] -1.75757576 -1.71717172 -1.67676768 -1.63636364 -1.59595960 -1.55555556\n",
       " [13] -1.51515152 -1.47474747 -1.43434343 -1.39393939 -1.35353535 -1.31313131\n",
       " [19] -1.27272727 -1.23232323 -1.19191919 -1.15151515 -1.11111111 -1.07070707\n",
       " [25] -1.03030303 -0.98989899 -0.94949495 -0.90909091 -0.86868687 -0.82828283\n",
       " [31] -0.78787879 -0.74747475 -0.70707071 -0.66666667 -0.62626263 -0.58585859\n",
       " [37] -0.54545455 -0.50505051 -0.46464646 -0.42424242 -0.38383838 -0.34343434\n",
       " [43] -0.30303030 -0.26262626 -0.22222222 -0.18181818 -0.14141414 -0.10101010\n",
       " [49] -0.06060606 -0.02020202  0.02020202  0.06060606  0.10101010  0.14141414\n",
       " [55]  0.18181818  0.22222222  0.26262626  0.30303030  0.34343434  0.38383838\n",
       " [61]  0.42424242  0.46464646  0.50505051  0.54545455  0.58585859  0.62626263\n",
       " [67]  0.66666667  0.70707071  0.74747475  0.78787879  0.82828283  0.86868687\n",
       " [73]  0.90909091  0.94949495  0.98989899  1.03030303  1.07070707  1.11111111\n",
       " [79]  1.15151515  1.19191919  1.23232323  1.27272727  1.31313131  1.35353535\n",
       " [85]  1.39393939  1.43434343  1.47474747  1.51515152  1.55555556  1.59595960\n",
       " [91]  1.63636364  1.67676768  1.71717172  1.75757576  1.79797980  1.83838384\n",
       " [97]  1.87878788  1.91919192  1.95959596  2.00000000\n",
       "\n",
       "$y\n",
       "  [1] -50.47245 -50.17026 -49.87621 -49.59036 -49.31274 -49.04343 -48.78246\n",
       "  [8] -48.52989 -48.28577 -48.05016 -47.82311 -47.60466 -47.39488 -47.19381\n",
       " [15] -47.00150 -46.81800 -46.64338 -46.47767 -46.32094 -46.17322 -46.03458\n",
       " [22] -45.90506 -45.78472 -45.67360 -45.57176 -45.47925 -45.39612 -45.32242\n",
       " [29] -45.25820 -45.20351 -45.15840 -45.12293 -45.09714 -45.08108 -45.07481\n",
       " [36] -45.07837 -45.09182 -45.11520 -45.14857 -45.19197 -45.24546 -45.30909\n",
       " [43] -45.38290 -45.46695 -45.56128 -45.66595 -45.78100 -45.90648 -46.04245\n",
       " [50] -46.18894 -46.34602 -46.51372 -46.69211 -46.88121 -47.08109 -47.29179\n",
       " [57] -47.51335 -47.74583 -47.98926 -48.24370 -48.50919 -48.78577 -49.07349\n",
       " [64] -49.37239 -49.68252 -50.00391 -50.33661 -50.68066 -51.03610 -51.40296\n",
       " [71] -51.78129 -52.17111 -52.57248 -52.98541 -53.40995 -53.84613 -54.29397\n",
       " [78] -54.75350 -55.22477 -55.70778 -56.20256 -56.70914 -57.22755 -57.75779\n",
       " [85] -58.29988 -58.85385 -59.41970 -59.99746 -60.58711 -61.18869 -61.80218\n",
       " [92] -62.42760 -63.06494 -63.71420 -64.37539 -65.04848 -65.73348 -66.43037\n",
       " [99] -67.13914 -67.85977\n"
      ]
     },
     "metadata": {},
     "output_type": "display_data"
    },
    {
     "data": {
      "image/png": "[encoded data removed]",
      "text/plain": [
       "plot without title"
      ]
     },
     "metadata": {},
     "output_type": "display_data"
    }
   ],
   "source": [
    "bc = boxcox(model)\n",
    "bc"
   ]
  },
  {
   "cell_type": "code",
   "execution_count": 31,
   "metadata": {
    "ExecuteTime": {
     "end_time": "2021-06-07T10:49:48.852411Z",
     "start_time": "2021-06-07T10:49:48.799Z"
    }
   },
   "outputs": [
    {
     "data": {
      "text/html": [
       "<style>\n",
       ".list-inline {list-style: none; margin:0; padding: 0}\n",
       ".list-inline>li {display: inline-block}\n",
       ".list-inline>li:not(:last-child)::after {content: \"\\00b7\"; padding: 0 .5ex}\n",
       "</style>\n",
       "<ol class=list-inline><li>-50.4724459866979</li><li>-50.1702594313092</li><li>-49.876211683266</li><li>-49.5903551043654</li><li>-49.3127420798007</li><li>-49.0434250166794</li><li>-48.7824562773429</li><li>-48.5298880670386</li><li>-48.2857725518416</li><li>-48.0501618088269</li><li>-47.8231078418769</li><li>-47.6046626104281</li><li>-47.3948779483042</li><li>-47.1938056586303</li><li>-47.001497443056</li><li>-46.8180049299983</li><li>-46.6433797011713</li><li>-46.477673222377</li><li>-46.3209369322902</li><li>-46.1732221707963</li><li>-46.0345802152351</li><li>-45.9050622964143</li><li>-45.7847195435026</li><li>-45.6736030623217</li><li>-45.5717638678355</li><li>-45.479252924547</li><li>-45.396121151611</li><li>-45.3224193811269</li><li>-45.2581984246083</li><li>-45.2035090087497</li><li>-45.1584018188748</li><li>-45.1229274928525</li><li>-45.0971365885515</li><li>-45.0810796428195</li><li>-45.0748071019256</li><li>-45.0783693731776</li><li>-45.0918168036613</li><li>-45.1151996513619</li><li>-45.1485681463775</li><li>-45.1919723980634</li><li>-45.2454624696464</li><li>-45.3090883300299</li><li>-45.3828998256659</li><li>-45.4669467570264</li><li>-45.5612787351118</li><li>-45.6659453061268</li><li>-45.7809958528088</li><li>-45.9064795716577</li><li>-46.0424455770185</li><li>-46.1889426726949</li><li>-46.3460195664927</li><li>-46.5137246828384</li><li>-46.6921061627787</li><li>-46.8812120017358</li><li>-47.0810897004171</li><li>-47.2917866192286</li><li>-47.5133496486728</li><li>-47.7458252667706</li><li>-47.9892597039409</li><li>-48.2436984435366</li><li>-48.5091867706745</li><li>-48.7857692341528</li><li>-49.0734898154194</li><li>-49.3723920959257</li><li>-49.6825185923131</li><li>-50.0039115506682</li><li>-50.3366121269954</li><li>-50.6806607400714</li><li>-51.0360971952282</li><li>-51.4029598621742</li><li>-51.781286752123</li><li>-52.1711143468864</li><li>-52.5724782204009</li><li>-52.9854130520095</li><li>-53.4099516837694</li><li>-53.8461264940544</li><li>-54.2939678208639</li><li>-54.753504938719</li><li>-55.2247658791313</li><li>-55.7077764347197</li><li>-56.2025618104407</li><li>-56.7091446154299</li><li>-57.2275462696139</li><li>-57.7577865452232</li><li>-58.2998826117077</li><li>-58.8538509068439</li><li>-59.4197047074975</li><li>-59.9974560152574</li><li>-60.587114757905</li><li>-61.1886879894853</li><li>-61.8021818559706</li><li>-62.4275987366859</li><li>-63.0649396754552</li><li>-63.7142034289206</li><li>-64.3753859725516</li><li>-65.0484819303391</li><li>-65.7334804252144</li><li>-66.4303690125019</li><li>-67.1391360149061</li><li>-67.8597705744195</li></ol>\n"
      ],
      "text/latex": [
       "\\begin{enumerate*}\n",
       "\\item -50.4724459866979\n",
       "\\item -50.1702594313092\n",
       "\\item -49.876211683266\n",
       "\\item -49.5903551043654\n",
       "\\item -49.3127420798007\n",
       "\\item -49.0434250166794\n",
       "\\item -48.7824562773429\n",
       "\\item -48.5298880670386\n",
       "\\item -48.2857725518416\n",
       "\\item -48.0501618088269\n",
       "\\item -47.8231078418769\n",
       "\\item -47.6046626104281\n",
       "\\item -47.3948779483042\n",
       "\\item -47.1938056586303\n",
       "\\item -47.001497443056\n",
       "\\item -46.8180049299983\n",
       "\\item -46.6433797011713\n",
       "\\item -46.477673222377\n",
       "\\item -46.3209369322902\n",
       "\\item -46.1732221707963\n",
       "\\item -46.0345802152351\n",
       "\\item -45.9050622964143\n",
       "\\item -45.7847195435026\n",
       "\\item -45.6736030623217\n",
       "\\item -45.5717638678355\n",
       "\\item -45.479252924547\n",
       "\\item -45.396121151611\n",
       "\\item -45.3224193811269\n",
       "\\item -45.2581984246083\n",
       "\\item -45.2035090087497\n",
       "\\item -45.1584018188748\n",
       "\\item -45.1229274928525\n",
       "\\item -45.0971365885515\n",
       "\\item -45.0810796428195\n",
       "\\item -45.0748071019256\n",
       "\\item -45.0783693731776\n",
       "\\item -45.0918168036613\n",
       "\\item -45.1151996513619\n",
       "\\item -45.1485681463775\n",
       "\\item -45.1919723980634\n",
       "\\item -45.2454624696464\n",
       "\\item -45.3090883300299\n",
       "\\item -45.3828998256659\n",
       "\\item -45.4669467570264\n",
       "\\item -45.5612787351118\n",
       "\\item -45.6659453061268\n",
       "\\item -45.7809958528088\n",
       "\\item -45.9064795716577\n",
       "\\item -46.0424455770185\n",
       "\\item -46.1889426726949\n",
       "\\item -46.3460195664927\n",
       "\\item -46.5137246828384\n",
       "\\item -46.6921061627787\n",
       "\\item -46.8812120017358\n",
       "\\item -47.0810897004171\n",
       "\\item -47.2917866192286\n",
       "\\item -47.5133496486728\n",
       "\\item -47.7458252667706\n",
       "\\item -47.9892597039409\n",
       "\\item -48.2436984435366\n",
       "\\item -48.5091867706745\n",
       "\\item -48.7857692341528\n",
       "\\item -49.0734898154194\n",
       "\\item -49.3723920959257\n",
       "\\item -49.6825185923131\n",
       "\\item -50.0039115506682\n",
       "\\item -50.3366121269954\n",
       "\\item -50.6806607400714\n",
       "\\item -51.0360971952282\n",
       "\\item -51.4029598621742\n",
       "\\item -51.781286752123\n",
       "\\item -52.1711143468864\n",
       "\\item -52.5724782204009\n",
       "\\item -52.9854130520095\n",
       "\\item -53.4099516837694\n",
       "\\item -53.8461264940544\n",
       "\\item -54.2939678208639\n",
       "\\item -54.753504938719\n",
       "\\item -55.2247658791313\n",
       "\\item -55.7077764347197\n",
       "\\item -56.2025618104407\n",
       "\\item -56.7091446154299\n",
       "\\item -57.2275462696139\n",
       "\\item -57.7577865452232\n",
       "\\item -58.2998826117077\n",
       "\\item -58.8538509068439\n",
       "\\item -59.4197047074975\n",
       "\\item -59.9974560152574\n",
       "\\item -60.587114757905\n",
       "\\item -61.1886879894853\n",
       "\\item -61.8021818559706\n",
       "\\item -62.4275987366859\n",
       "\\item -63.0649396754552\n",
       "\\item -63.7142034289206\n",
       "\\item -64.3753859725516\n",
       "\\item -65.0484819303391\n",
       "\\item -65.7334804252144\n",
       "\\item -66.4303690125019\n",
       "\\item -67.1391360149061\n",
       "\\item -67.8597705744195\n",
       "\\end{enumerate*}\n"
      ],
      "text/markdown": [
       "1. -50.4724459866979\n",
       "2. -50.1702594313092\n",
       "3. -49.876211683266\n",
       "4. -49.5903551043654\n",
       "5. -49.3127420798007\n",
       "6. -49.0434250166794\n",
       "7. -48.7824562773429\n",
       "8. -48.5298880670386\n",
       "9. -48.2857725518416\n",
       "10. -48.0501618088269\n",
       "11. -47.8231078418769\n",
       "12. -47.6046626104281\n",
       "13. -47.3948779483042\n",
       "14. -47.1938056586303\n",
       "15. -47.001497443056\n",
       "16. -46.8180049299983\n",
       "17. -46.6433797011713\n",
       "18. -46.477673222377\n",
       "19. -46.3209369322902\n",
       "20. -46.1732221707963\n",
       "21. -46.0345802152351\n",
       "22. -45.9050622964143\n",
       "23. -45.7847195435026\n",
       "24. -45.6736030623217\n",
       "25. -45.5717638678355\n",
       "26. -45.479252924547\n",
       "27. -45.396121151611\n",
       "28. -45.3224193811269\n",
       "29. -45.2581984246083\n",
       "30. -45.2035090087497\n",
       "31. -45.1584018188748\n",
       "32. -45.1229274928525\n",
       "33. -45.0971365885515\n",
       "34. -45.0810796428195\n",
       "35. -45.0748071019256\n",
       "36. -45.0783693731776\n",
       "37. -45.0918168036613\n",
       "38. -45.1151996513619\n",
       "39. -45.1485681463775\n",
       "40. -45.1919723980634\n",
       "41. -45.2454624696464\n",
       "42. -45.3090883300299\n",
       "43. -45.3828998256659\n",
       "44. -45.4669467570264\n",
       "45. -45.5612787351118\n",
       "46. -45.6659453061268\n",
       "47. -45.7809958528088\n",
       "48. -45.9064795716577\n",
       "49. -46.0424455770185\n",
       "50. -46.1889426726949\n",
       "51. -46.3460195664927\n",
       "52. -46.5137246828384\n",
       "53. -46.6921061627787\n",
       "54. -46.8812120017358\n",
       "55. -47.0810897004171\n",
       "56. -47.2917866192286\n",
       "57. -47.5133496486728\n",
       "58. -47.7458252667706\n",
       "59. -47.9892597039409\n",
       "60. -48.2436984435366\n",
       "61. -48.5091867706745\n",
       "62. -48.7857692341528\n",
       "63. -49.0734898154194\n",
       "64. -49.3723920959257\n",
       "65. -49.6825185923131\n",
       "66. -50.0039115506682\n",
       "67. -50.3366121269954\n",
       "68. -50.6806607400714\n",
       "69. -51.0360971952282\n",
       "70. -51.4029598621742\n",
       "71. -51.781286752123\n",
       "72. -52.1711143468864\n",
       "73. -52.5724782204009\n",
       "74. -52.9854130520095\n",
       "75. -53.4099516837694\n",
       "76. -53.8461264940544\n",
       "77. -54.2939678208639\n",
       "78. -54.753504938719\n",
       "79. -55.2247658791313\n",
       "80. -55.7077764347197\n",
       "81. -56.2025618104407\n",
       "82. -56.7091446154299\n",
       "83. -57.2275462696139\n",
       "84. -57.7577865452232\n",
       "85. -58.2998826117077\n",
       "86. -58.8538509068439\n",
       "87. -59.4197047074975\n",
       "88. -59.9974560152574\n",
       "89. -60.587114757905\n",
       "90. -61.1886879894853\n",
       "91. -61.8021818559706\n",
       "92. -62.4275987366859\n",
       "93. -63.0649396754552\n",
       "94. -63.7142034289206\n",
       "95. -64.3753859725516\n",
       "96. -65.0484819303391\n",
       "97. -65.7334804252144\n",
       "98. -66.4303690125019\n",
       "99. -67.1391360149061\n",
       "100. -67.8597705744195\n",
       "\n",
       "\n"
      ],
      "text/plain": [
       "  [1] -50.47245 -50.17026 -49.87621 -49.59036 -49.31274 -49.04343 -48.78246\n",
       "  [8] -48.52989 -48.28577 -48.05016 -47.82311 -47.60466 -47.39488 -47.19381\n",
       " [15] -47.00150 -46.81800 -46.64338 -46.47767 -46.32094 -46.17322 -46.03458\n",
       " [22] -45.90506 -45.78472 -45.67360 -45.57176 -45.47925 -45.39612 -45.32242\n",
       " [29] -45.25820 -45.20351 -45.15840 -45.12293 -45.09714 -45.08108 -45.07481\n",
       " [36] -45.07837 -45.09182 -45.11520 -45.14857 -45.19197 -45.24546 -45.30909\n",
       " [43] -45.38290 -45.46695 -45.56128 -45.66595 -45.78100 -45.90648 -46.04245\n",
       " [50] -46.18894 -46.34602 -46.51372 -46.69211 -46.88121 -47.08109 -47.29179\n",
       " [57] -47.51335 -47.74583 -47.98926 -48.24370 -48.50919 -48.78577 -49.07349\n",
       " [64] -49.37239 -49.68252 -50.00391 -50.33661 -50.68066 -51.03610 -51.40296\n",
       " [71] -51.78129 -52.17111 -52.57248 -52.98541 -53.40995 -53.84613 -54.29397\n",
       " [78] -54.75350 -55.22477 -55.70778 -56.20256 -56.70914 -57.22755 -57.75779\n",
       " [85] -58.29988 -58.85385 -59.41970 -59.99746 -60.58711 -61.18869 -61.80218\n",
       " [92] -62.42760 -63.06494 -63.71420 -64.37539 -65.04848 -65.73348 -66.43037\n",
       " [99] -67.13914 -67.85977"
      ]
     },
     "metadata": {},
     "output_type": "display_data"
    }
   ],
   "source": [
    "bc$y"
   ]
  },
  {
   "cell_type": "code",
   "execution_count": 32,
   "metadata": {
    "ExecuteTime": {
     "end_time": "2021-06-07T10:50:04.424708Z",
     "start_time": "2021-06-07T10:50:04.369Z"
    }
   },
   "outputs": [
    {
     "data": {
      "text/html": [
       "-0.626262626262626"
      ],
      "text/latex": [
       "-0.626262626262626"
      ],
      "text/markdown": [
       "-0.626262626262626"
      ],
      "text/plain": [
       "[1] -0.6262626"
      ]
     },
     "metadata": {},
     "output_type": "display_data"
    }
   ],
   "source": [
    "best.lam=bc$x[which(bc$y==max(bc$y))]\n",
    "best.lam"
   ]
  },
  {
   "cell_type": "code",
   "execution_count": 33,
   "metadata": {
    "ExecuteTime": {
     "end_time": "2021-06-07T10:50:29.116299Z",
     "start_time": "2021-06-07T10:50:29.070Z"
    }
   },
   "outputs": [],
   "source": [
    "lambda=(-0.62626262626)"
   ]
  },
  {
   "cell_type": "markdown",
   "metadata": {},
   "source": [
    "### fit new linear regression model using the Box-Cox transformation"
   ]
  },
  {
   "cell_type": "code",
   "execution_count": 34,
   "metadata": {
    "ExecuteTime": {
     "end_time": "2021-06-07T10:50:35.201746Z",
     "start_time": "2021-06-07T10:50:35.151Z"
    }
   },
   "outputs": [],
   "source": [
    "new_model <- lm(((value^lambda-1/lambda) ~ trt))"
   ]
  },
  {
   "cell_type": "code",
   "execution_count": 35,
   "metadata": {
    "ExecuteTime": {
     "end_time": "2021-06-07T10:50:37.850481Z",
     "start_time": "2021-06-07T10:50:37.756Z"
    }
   },
   "outputs": [
    {
     "data": {
      "image/png": "[encoded data removed]",
      "text/plain": [
       "plot without title"
      ]
     },
     "metadata": {},
     "output_type": "display_data"
    }
   ],
   "source": [
    "a=boxplot(((value^lambda-1)/lambda)) #~ trt, col=2)"
   ]
  },
  {
   "cell_type": "markdown",
   "metadata": {},
   "source": [
    "# Q-Q plot for original model"
   ]
  },
  {
   "cell_type": "code",
   "execution_count": 36,
   "metadata": {
    "ExecuteTime": {
     "end_time": "2021-06-07T10:50:50.118784Z",
     "start_time": "2021-06-07T10:50:50.006Z"
    }
   },
   "outputs": [
    {
     "data": {
      "image/png": "[encoded data removed]",
      "text/plain": [
       "Plot with title \"Normal Q-Q Plot\""
      ]
     },
     "metadata": {},
     "output_type": "display_data"
    }
   ],
   "source": [
    "qqnorm(model$residuals)\n",
    "qqline(model$residuals)"
   ]
  },
  {
   "cell_type": "markdown",
   "metadata": {},
   "source": [
    "### Q-Q plot for Box-Cox transformed model \n",
    "### here you can see \n"
   ]
  },
  {
   "cell_type": "code",
   "execution_count": 37,
   "metadata": {
    "ExecuteTime": {
     "end_time": "2021-06-07T10:51:00.895406Z",
     "start_time": "2021-06-07T10:51:00.782Z"
    }
   },
   "outputs": [
    {
     "data": {
      "image/png": "[encoded data removed]",
      "text/plain": [
       "Plot with title \"Normal Q-Q Plot\""
      ]
     },
     "metadata": {},
     "output_type": "display_data"
    }
   ],
   "source": [
    "qqnorm(new_model$residuals)\n",
    "qqline(new_model$residuals)"
   ]
  },
  {
   "cell_type": "markdown",
   "metadata": {},
   "source": [
    "#### As a rule of thumb, if the data points fall along a straight diagonal line in a Q-Q plot then the dataset likely follows a normal distribution.\n",
    "#### Notice how the box-cox transformed model produces a Q-Q plot with a much straighter line than the original regression model.\n"
   ]
  },
  {
   "cell_type": "markdown",
   "metadata": {},
   "source": [
    "### ANOVA using box cox transformation"
   ]
  },
  {
   "cell_type": "code",
   "execution_count": 38,
   "metadata": {
    "ExecuteTime": {
     "end_time": "2021-06-07T10:51:16.444505Z",
     "start_time": "2021-06-07T10:51:16.377Z"
    }
   },
   "outputs": [
    {
     "data": {
      "text/plain": [
       "            Df    Sum Sq   Mean Sq F value Pr(>F)  \n",
       "trt          2 0.0000545 2.724e-05   3.238 0.0466 *\n",
       "Residuals   57 0.0004795 8.413e-06                 \n",
       "---\n",
       "Signif. codes:  0 '***' 0.001 '**' 0.01 '*' 0.05 '.' 0.1 ' ' 1"
      ]
     },
     "metadata": {},
     "output_type": "display_data"
    }
   ],
   "source": [
    "transformed_anova=aov(new_model)\n",
    "summary(transformed_anova)"
   ]
  },
  {
   "cell_type": "markdown",
   "metadata": {},
   "source": [
    "### ANOVA without transformation"
   ]
  },
  {
   "cell_type": "code",
   "execution_count": 39,
   "metadata": {
    "ExecuteTime": {
     "end_time": "2021-06-07T10:51:40.112419Z",
     "start_time": "2021-06-07T10:51:40.037Z"
    },
    "scrolled": true
   },
   "outputs": [
    {
     "data": {
      "text/plain": [
       "            Df  Sum Sq Mean Sq F value Pr(>F)  \n",
       "trt          2  271042  135521   3.304 0.0439 *\n",
       "Residuals   57 2337788   41014                 \n",
       "---\n",
       "Signif. codes:  0 '***' 0.001 '**' 0.01 '*' 0.05 '.' 0.1 ' ' 1"
      ]
     },
     "metadata": {},
     "output_type": "display_data"
    },
    {
     "data": {
      "text/plain": [
       "\n",
       "Call:\n",
       "lm(formula = value ~ trt)\n",
       "\n",
       "Residuals:\n",
       "    Min      1Q  Median      3Q     Max \n",
       "-310.43 -122.26  -32.60   86.47  710.17 \n",
       "\n",
       "Coefficients:\n",
       "            Estimate Std. Error t value Pr(>|t|)    \n",
       "(Intercept)   674.73      45.28  14.900   <2e-16 ***\n",
       "trt2          -75.13      64.04  -1.173    0.246    \n",
       "trt3           89.30      64.04   1.394    0.169    \n",
       "---\n",
       "Signif. codes:  0 '***' 0.001 '**' 0.01 '*' 0.05 '.' 0.1 ' ' 1\n",
       "\n",
       "Residual standard error: 202.5 on 57 degrees of freedom\n",
       "Multiple R-squared:  0.1039,\tAdjusted R-squared:  0.07245 \n",
       "F-statistic: 3.304 on 2 and 57 DF,  p-value: 0.04388\n"
      ]
     },
     "metadata": {},
     "output_type": "display_data"
    }
   ],
   "source": [
    "anovacrd=lm(value~trt)\n",
    "summary.aov(anovacrd)\n",
    "summary(anovacrd)\n"
   ]
  },
  {
   "cell_type": "code",
   "execution_count": null,
   "metadata": {},
   "outputs": [],
   "source": []
  },
  {
   "cell_type": "code",
   "execution_count": null,
   "metadata": {},
   "outputs": [],
   "source": []
  }
 ],
 "metadata": {
  "celltoolbar": "Slideshow",
  "kernelspec": {
   "display_name": "R",
   "language": "R",
   "name": "ir"
  },
  "language_info": {
   "codemirror_mode": "r",
   "file_extension": ".r",
   "mimetype": "text/x-r-source",
   "name": "R",
   "pygments_lexer": "r",
   "version": "3.6.1"
  },
  "latex_envs": {
   "LaTeX_envs_menu_present": true,
   "autoclose": true,
   "autocomplete": true,
   "bibliofile": "biblio.bib",
   "cite_by": "apalike",
   "current_citInitial": 1,
   "eqLabelWithNumbers": true,
   "eqNumInitial": 1,
   "hotkeys": {
    "equation": "Ctrl-E",
    "itemize": "Ctrl-I"
   },
   "labels_anchors": false,
   "latex_user_defs": false,
   "report_style_numbering": false,
   "user_envs_cfg": false
  }
 },
 "nbformat": 4,
 "nbformat_minor": 4
}
